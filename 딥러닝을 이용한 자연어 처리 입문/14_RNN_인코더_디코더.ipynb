{
  "nbformat": 4,
  "nbformat_minor": 0,
  "metadata": {
    "colab": {
      "name": "14_RNN_인코더_디코더.ipynb",
      "provenance": [],
      "authorship_tag": "ABX9TyOd+LTVWygyom2IXYaQzJa3"
    },
    "kernelspec": {
      "name": "python3",
      "display_name": "Python 3"
    },
    "language_info": {
      "name": "python"
    }
  },
  "cells": [
    {
      "cell_type": "markdown",
      "source": [
        "# 14. RNN을 이용한 인코더-디코더\n",
        "\n",
        "### 1) 시퀀스-투-시퀀스 Sequence-to-Sequence, seq2seq\n",
        "\n",
        "1. 시퀀스-투-시퀀스\n",
        "\n",
        " 챗봇, 기계번역\n",
        "\n",
        " ![image.png](data:image/png;base64,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)"
      ],
      "metadata": {
        "id": "8PvXHA5dyYUf"
      }
    },
    {
      "cell_type": "markdown",
      "source": [
        "### 2) Word-Level 번역기 만들기\n",
        "\n"
      ],
      "metadata": {
        "id": "OqtA20QTBhLP"
      }
    },
    {
      "cell_type": "markdown",
      "source": [
        "### 3) BLEU Score\n",
        "\n",
        "- 기계번역기에서의 성능 측정 방법\n",
        "\n",
        "- 기계 번역 결과와 사람이 직접 번역한 결과가 얼마나 유사한지 비교하여 번역에 대한 성능을 측정하는 방법\n",
        "\n",
        "- 파이썬 NLTK 이용한 BLEU 측정\n",
        "\n",
        "\n"
      ],
      "metadata": {
        "id": "Rk2OuOesCRIU"
      }
    },
    {
      "cell_type": "code",
      "source": [
        "import nltk.translate.bleu_score as bleu\n",
        "\n",
        "candidate = 'It is a guide to action which ensures that the military always obeys the commands of the party'\n",
        "references = [\n",
        "    'It is a guide to action that ensures that the military will forever heed Party commands',\n",
        "    'It is the guiding principle which guarantees the military forces always being under the command of the Party',\n",
        "    'It is the practical guide for the army always to heed the directions of the party'\n",
        "]\n",
        "\n",
        "print('패키지 NLTK의 BLEU :',bleu.sentence_bleu(list(map(lambda ref: ref.split(), references)),candidate.split()))"
      ],
      "metadata": {
        "colab": {
          "base_uri": "https://localhost:8080/"
        },
        "id": "mBFjZSGOCyBP",
        "outputId": "5aee83ed-d0ed-4ee0-ef46-64b0ed800a32"
      },
      "execution_count": 4,
      "outputs": [
        {
          "output_type": "stream",
          "name": "stdout",
          "text": [
            "패키지 NLTK의 BLEU : 0.5045666840058485\n"
          ]
        }
      ]
    }
  ]
}