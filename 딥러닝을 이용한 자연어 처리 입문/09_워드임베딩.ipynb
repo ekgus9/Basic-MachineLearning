{
  "nbformat": 4,
  "nbformat_minor": 0,
  "metadata": {
    "colab": {
      "name": "09_워드임베딩.ipynb",
      "provenance": [],
      "authorship_tag": "ABX9TyOvec1Md/m4oB5HK1diuHT3"
    },
    "kernelspec": {
      "name": "python3",
      "display_name": "Python 3"
    },
    "language_info": {
      "name": "python"
    },
    "widgets": {
      "application/vnd.jupyter.widget-state+json": {
        "f01ca8d995f748fc8d33e743896d3aed": {
          "model_module": "@jupyter-widgets/controls",
          "model_name": "HBoxModel",
          "model_module_version": "1.5.0",
          "state": {
            "_view_name": "HBoxView",
            "_dom_classes": [],
            "_model_name": "HBoxModel",
            "_view_module": "@jupyter-widgets/controls",
            "_model_module_version": "1.5.0",
            "_view_count": null,
            "_view_module_version": "1.5.0",
            "box_style": "",
            "layout": "IPY_MODEL_18caf43b3d2b42debba598611ec21916",
            "_model_module": "@jupyter-widgets/controls",
            "children": [
              "IPY_MODEL_19744332b0fd4d4698f1b0b96d828bc6",
              "IPY_MODEL_6e4a60c3ed1642dba3aef6cfdfc2b3b4",
              "IPY_MODEL_779cf48799ea4e0d919b2656ffcaff15"
            ]
          }
        },
        "18caf43b3d2b42debba598611ec21916": {
          "model_module": "@jupyter-widgets/base",
          "model_name": "LayoutModel",
          "model_module_version": "1.2.0",
          "state": {
            "_view_name": "LayoutView",
            "grid_template_rows": null,
            "right": null,
            "justify_content": null,
            "_view_module": "@jupyter-widgets/base",
            "overflow": null,
            "_model_module_version": "1.2.0",
            "_view_count": null,
            "flex_flow": null,
            "width": null,
            "min_width": null,
            "border": null,
            "align_items": null,
            "bottom": null,
            "_model_module": "@jupyter-widgets/base",
            "top": null,
            "grid_column": null,
            "overflow_y": null,
            "overflow_x": null,
            "grid_auto_flow": null,
            "grid_area": null,
            "grid_template_columns": null,
            "flex": null,
            "_model_name": "LayoutModel",
            "justify_items": null,
            "grid_row": null,
            "max_height": null,
            "align_content": null,
            "visibility": null,
            "align_self": null,
            "height": null,
            "min_height": null,
            "padding": null,
            "grid_auto_rows": null,
            "grid_gap": null,
            "max_width": null,
            "order": null,
            "_view_module_version": "1.2.0",
            "grid_template_areas": null,
            "object_position": null,
            "object_fit": null,
            "grid_auto_columns": null,
            "margin": null,
            "display": null,
            "left": null
          }
        },
        "19744332b0fd4d4698f1b0b96d828bc6": {
          "model_module": "@jupyter-widgets/controls",
          "model_name": "HTMLModel",
          "model_module_version": "1.5.0",
          "state": {
            "_view_name": "HTMLView",
            "style": "IPY_MODEL_bcd2732c748249dbb2f51217d3eade93",
            "_dom_classes": [],
            "description": "",
            "_model_name": "HTMLModel",
            "placeholder": "​",
            "_view_module": "@jupyter-widgets/controls",
            "_model_module_version": "1.5.0",
            "value": "100%",
            "_view_count": null,
            "_view_module_version": "1.5.0",
            "description_tooltip": null,
            "_model_module": "@jupyter-widgets/controls",
            "layout": "IPY_MODEL_186cfe36be2f4ecaa02f37e0a57a774b"
          }
        },
        "6e4a60c3ed1642dba3aef6cfdfc2b3b4": {
          "model_module": "@jupyter-widgets/controls",
          "model_name": "FloatProgressModel",
          "model_module_version": "1.5.0",
          "state": {
            "_view_name": "ProgressView",
            "style": "IPY_MODEL_a1c292d86f7d413dabac73e4642f7f7e",
            "_dom_classes": [],
            "description": "",
            "_model_name": "FloatProgressModel",
            "bar_style": "success",
            "max": 199992,
            "_view_module": "@jupyter-widgets/controls",
            "_model_module_version": "1.5.0",
            "value": 199992,
            "_view_count": null,
            "_view_module_version": "1.5.0",
            "orientation": "horizontal",
            "min": 0,
            "description_tooltip": null,
            "_model_module": "@jupyter-widgets/controls",
            "layout": "IPY_MODEL_1cd8385b73c74e53a8c98e85bd86f34f"
          }
        },
        "779cf48799ea4e0d919b2656ffcaff15": {
          "model_module": "@jupyter-widgets/controls",
          "model_name": "HTMLModel",
          "model_module_version": "1.5.0",
          "state": {
            "_view_name": "HTMLView",
            "style": "IPY_MODEL_2b82a00904e54937bf0c24679e047b4c",
            "_dom_classes": [],
            "description": "",
            "_model_name": "HTMLModel",
            "placeholder": "​",
            "_view_module": "@jupyter-widgets/controls",
            "_model_module_version": "1.5.0",
            "value": " 199992/199992 [16:47&lt;00:00, 152.77it/s]",
            "_view_count": null,
            "_view_module_version": "1.5.0",
            "description_tooltip": null,
            "_model_module": "@jupyter-widgets/controls",
            "layout": "IPY_MODEL_74b564c1aa594281b17c8727ca8f5222"
          }
        },
        "bcd2732c748249dbb2f51217d3eade93": {
          "model_module": "@jupyter-widgets/controls",
          "model_name": "DescriptionStyleModel",
          "model_module_version": "1.5.0",
          "state": {
            "_view_name": "StyleView",
            "_model_name": "DescriptionStyleModel",
            "description_width": "",
            "_view_module": "@jupyter-widgets/base",
            "_model_module_version": "1.5.0",
            "_view_count": null,
            "_view_module_version": "1.2.0",
            "_model_module": "@jupyter-widgets/controls"
          }
        },
        "186cfe36be2f4ecaa02f37e0a57a774b": {
          "model_module": "@jupyter-widgets/base",
          "model_name": "LayoutModel",
          "model_module_version": "1.2.0",
          "state": {
            "_view_name": "LayoutView",
            "grid_template_rows": null,
            "right": null,
            "justify_content": null,
            "_view_module": "@jupyter-widgets/base",
            "overflow": null,
            "_model_module_version": "1.2.0",
            "_view_count": null,
            "flex_flow": null,
            "width": null,
            "min_width": null,
            "border": null,
            "align_items": null,
            "bottom": null,
            "_model_module": "@jupyter-widgets/base",
            "top": null,
            "grid_column": null,
            "overflow_y": null,
            "overflow_x": null,
            "grid_auto_flow": null,
            "grid_area": null,
            "grid_template_columns": null,
            "flex": null,
            "_model_name": "LayoutModel",
            "justify_items": null,
            "grid_row": null,
            "max_height": null,
            "align_content": null,
            "visibility": null,
            "align_self": null,
            "height": null,
            "min_height": null,
            "padding": null,
            "grid_auto_rows": null,
            "grid_gap": null,
            "max_width": null,
            "order": null,
            "_view_module_version": "1.2.0",
            "grid_template_areas": null,
            "object_position": null,
            "object_fit": null,
            "grid_auto_columns": null,
            "margin": null,
            "display": null,
            "left": null
          }
        },
        "a1c292d86f7d413dabac73e4642f7f7e": {
          "model_module": "@jupyter-widgets/controls",
          "model_name": "ProgressStyleModel",
          "model_module_version": "1.5.0",
          "state": {
            "_view_name": "StyleView",
            "_model_name": "ProgressStyleModel",
            "description_width": "",
            "_view_module": "@jupyter-widgets/base",
            "_model_module_version": "1.5.0",
            "_view_count": null,
            "_view_module_version": "1.2.0",
            "bar_color": null,
            "_model_module": "@jupyter-widgets/controls"
          }
        },
        "1cd8385b73c74e53a8c98e85bd86f34f": {
          "model_module": "@jupyter-widgets/base",
          "model_name": "LayoutModel",
          "model_module_version": "1.2.0",
          "state": {
            "_view_name": "LayoutView",
            "grid_template_rows": null,
            "right": null,
            "justify_content": null,
            "_view_module": "@jupyter-widgets/base",
            "overflow": null,
            "_model_module_version": "1.2.0",
            "_view_count": null,
            "flex_flow": null,
            "width": null,
            "min_width": null,
            "border": null,
            "align_items": null,
            "bottom": null,
            "_model_module": "@jupyter-widgets/base",
            "top": null,
            "grid_column": null,
            "overflow_y": null,
            "overflow_x": null,
            "grid_auto_flow": null,
            "grid_area": null,
            "grid_template_columns": null,
            "flex": null,
            "_model_name": "LayoutModel",
            "justify_items": null,
            "grid_row": null,
            "max_height": null,
            "align_content": null,
            "visibility": null,
            "align_self": null,
            "height": null,
            "min_height": null,
            "padding": null,
            "grid_auto_rows": null,
            "grid_gap": null,
            "max_width": null,
            "order": null,
            "_view_module_version": "1.2.0",
            "grid_template_areas": null,
            "object_position": null,
            "object_fit": null,
            "grid_auto_columns": null,
            "margin": null,
            "display": null,
            "left": null
          }
        },
        "2b82a00904e54937bf0c24679e047b4c": {
          "model_module": "@jupyter-widgets/controls",
          "model_name": "DescriptionStyleModel",
          "model_module_version": "1.5.0",
          "state": {
            "_view_name": "StyleView",
            "_model_name": "DescriptionStyleModel",
            "description_width": "",
            "_view_module": "@jupyter-widgets/base",
            "_model_module_version": "1.5.0",
            "_view_count": null,
            "_view_module_version": "1.2.0",
            "_model_module": "@jupyter-widgets/controls"
          }
        },
        "74b564c1aa594281b17c8727ca8f5222": {
          "model_module": "@jupyter-widgets/base",
          "model_name": "LayoutModel",
          "model_module_version": "1.2.0",
          "state": {
            "_view_name": "LayoutView",
            "grid_template_rows": null,
            "right": null,
            "justify_content": null,
            "_view_module": "@jupyter-widgets/base",
            "overflow": null,
            "_model_module_version": "1.2.0",
            "_view_count": null,
            "flex_flow": null,
            "width": null,
            "min_width": null,
            "border": null,
            "align_items": null,
            "bottom": null,
            "_model_module": "@jupyter-widgets/base",
            "top": null,
            "grid_column": null,
            "overflow_y": null,
            "overflow_x": null,
            "grid_auto_flow": null,
            "grid_area": null,
            "grid_template_columns": null,
            "flex": null,
            "_model_name": "LayoutModel",
            "justify_items": null,
            "grid_row": null,
            "max_height": null,
            "align_content": null,
            "visibility": null,
            "align_self": null,
            "height": null,
            "min_height": null,
            "padding": null,
            "grid_auto_rows": null,
            "grid_gap": null,
            "max_width": null,
            "order": null,
            "_view_module_version": "1.2.0",
            "grid_template_areas": null,
            "object_position": null,
            "object_fit": null,
            "grid_auto_columns": null,
            "margin": null,
            "display": null,
            "left": null
          }
        }
      }
    }
  },
  "cells": [
    {
      "cell_type": "markdown",
      "source": [
        "# 09 워드 임베딩 Word Embedding\n",
        "\n",
        "### 01) 워드 임베딩\n",
        "\n",
        "1. 희소 표현 Sparse Representation\n",
        "\n",
        "  벡터 또는 행렬 값 대부분이 0\n",
        "\n",
        "  ex. 원-핫 벡터\n",
        "\n",
        "2. 밀집 표현 Dense Representation\n",
        "\n",
        "  모든 단어의 벡터 표현의 차원을 사용자가 설정한 값으로 맞춘다.\n",
        "\n",
        "3. 워드 임베딩 Word Embedding\n",
        "\n",
        "  단어를 밀집 벡터 형태로 표현\n",
        "\n",
        "### 2) 워드투벡터 Word2Vec\n",
        "\n",
        "1. 희소 표현\n",
        "\n",
        "  단점 : 각 단어 벡터 간 유의미한 유사성 표현 불가\n",
        "\n",
        "  대안 : 다차원 공간 벡터화 -> 분산 표현 distributed representation\n",
        "\n",
        "  워드 임베딩 : 분산 표현 사용하여 단어 간 의미적 유사성 벡터화\n",
        "\n",
        "2. 분산 표현 distributed representation\n",
        "\n",
        "  비슷한 문맥에서 등장하는 단어들은 비슷한 의미 가짐을 가정\n",
        "\n",
        "  저차원에 단어의 의미를 여러 차원에다 분산하여 표현 -> 단어 벡터 간 유의미한 유사도 계산 가능\n",
        "\n",
        "3. CBOW (Continuous Bag of Words)\n",
        "\n",
        "  주변 단어 입력으로 중간 단어 예측\n",
        "\n",
        "4. Skip-gram\n",
        "\n",
        "  중심 단어에서 주변 단어 예측\n",
        "\n",
        "5. NNLM vs Word2Vec\n",
        "\n",
        "  ![image.png](data:image/png;base64,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)\n",
        "\n",
        "  NNLM : 다음 단어 예측하는 언어 모델이 목적\n",
        "\n",
        "  Word2Vec : 워드 임베딩 자체가 목적, 중심 단어 예측, 단어 전후 참조\n",
        "\n",
        "\n",
        "### 3) 영어/한국어 Word2Vec 실습\n",
        "\n",
        "1. 영어 Word2Vec\n",
        "\n",
        "- 훈련 데이터 이해"
      ],
      "metadata": {
        "id": "YucJp_BUf79C"
      }
    },
    {
      "cell_type": "code",
      "source": [
        "import re\n",
        "import urllib.request\n",
        "import zipfile\n",
        "from lxml import etree\n",
        "from nltk.tokenize import word_tokenize, sent_tokenize\n",
        "\n",
        "urllib.request.urlretrieve(\"https://raw.githubusercontent.com/ukairia777/tensorflow-nlp-tutorial/main/09.%20Word%20Embedding/dataset/ted_en-20160408.xml\", filename=\"ted_en-20160408.xml\")"
      ],
      "metadata": {
        "colab": {
          "base_uri": "https://localhost:8080/"
        },
        "id": "0iHWR2fc5gW0",
        "outputId": "c450d4d6-18f5-4e3a-d137-f6a4718cd541"
      },
      "execution_count": null,
      "outputs": [
        {
          "output_type": "execute_result",
          "data": {
            "text/plain": [
              "('ted_en-20160408.xml', <http.client.HTTPMessage at 0x7f319cd53f90>)"
            ]
          },
          "metadata": {},
          "execution_count": 1
        }
      ]
    },
    {
      "cell_type": "markdown",
      "source": [
        "- 훈련 데이터 전처리"
      ],
      "metadata": {
        "id": "DmWQzhnM6caU"
      }
    },
    {
      "cell_type": "code",
      "source": [
        "import nltk\n",
        "nltk.download('punkt')\n",
        "\n",
        "targetXML = open('ted_en-20160408.xml', 'r', encoding='UTF8')\n",
        "target_text = etree.parse(targetXML)\n",
        "\n",
        "# xml 파일로부터 <content>와 </content> 사이의 내용만 가져온다.\n",
        "parse_text = '\\n'.join(target_text.xpath('//content/text()'))\n",
        "\n",
        "# 정규 표현식의 sub 모듈을 통해 content 중간에 등장하는 (Audio), (Laughter) 등의 배경음 부분을 제거.\n",
        "# 해당 코드는 괄호로 구성된 내용을 제거.\n",
        "content_text = re.sub(r'\\([^)]*\\)', '', parse_text)\n",
        "\n",
        "# 입력 코퍼스에 대해서 NLTK를 이용하여 문장 토큰화를 수행.\n",
        "sent_text = sent_tokenize(content_text)\n",
        "\n",
        "# 각 문장에 대해서 구두점을 제거하고, 대문자를 소문자로 변환.\n",
        "normalized_text = []\n",
        "for string in sent_text:\n",
        "     tokens = re.sub(r\"[^a-z0-9]+\", \" \", string.lower())\n",
        "     normalized_text.append(tokens)\n",
        "\n",
        "# 각 문장에 대해서 NLTK를 이용하여 단어 토큰화를 수행.\n",
        "result = [word_tokenize(sentence) for sentence in normalized_text]"
      ],
      "metadata": {
        "colab": {
          "base_uri": "https://localhost:8080/"
        },
        "id": "uOuPTQTU6WGu",
        "outputId": "601dc580-abd3-4ad0-a9cf-fbb648f769ff"
      },
      "execution_count": null,
      "outputs": [
        {
          "output_type": "stream",
          "name": "stdout",
          "text": [
            "[nltk_data] Downloading package punkt to /root/nltk_data...\n",
            "[nltk_data]   Unzipping tokenizers/punkt.zip.\n"
          ]
        }
      ]
    },
    {
      "cell_type": "markdown",
      "source": [
        "- Word2Vec 훈련\n",
        "\n",
        "  size : 임베딩 된 벡터의 차원\n",
        "\n",
        "  window : 컨텍스트 윈도우 크기\n",
        "\n",
        "  min_count : 단어 최소 빈도 수 제한\n",
        "\n",
        "  workers : 학습을 위한 프로세스 수\n",
        "\n",
        "  sg : 0은 CBOW, 1은 Skip-gram"
      ],
      "metadata": {
        "id": "ianzM9VS6f7B"
      }
    },
    {
      "cell_type": "code",
      "source": [
        "from gensim.models import Word2Vec\n",
        "from gensim.models import KeyedVectors\n",
        "\n",
        "model = Word2Vec(sentences=result, size=100, window=5, min_count=5, workers=4, sg=0)\n",
        "\n",
        "model_result = model.wv.most_similar(\"man\")\n",
        "print(model_result)"
      ],
      "metadata": {
        "colab": {
          "base_uri": "https://localhost:8080/"
        },
        "id": "SRXQmt2_6jH3",
        "outputId": "df0592bc-88d1-46d9-ab08-f2956cafe79e"
      },
      "execution_count": null,
      "outputs": [
        {
          "output_type": "stream",
          "name": "stdout",
          "text": [
            "[('woman', 0.8807938098907471), ('guy', 0.8229900598526001), ('lady', 0.8001275062561035), ('boy', 0.7699810266494751), ('girl', 0.7552817463874817), ('soldier', 0.7426480650901794), ('gentleman', 0.7421512603759766), ('poet', 0.7280492782592773), ('kid', 0.7061430215835571), ('doctor', 0.6726807951927185)]\n"
          ]
        }
      ]
    },
    {
      "cell_type": "markdown",
      "source": [
        "2. 한국어 Word2Vec (네이버 영화 리뷰)"
      ],
      "metadata": {
        "id": "5iToyFts6phk"
      }
    },
    {
      "cell_type": "code",
      "source": [
        "import pandas as pd\n",
        "import matplotlib.pyplot as plt\n",
        "import urllib.request\n",
        "from gensim.models.word2vec import Word2Vec\n",
        "from konlpy.tag import Okt\n",
        "\n",
        "urllib.request.urlretrieve(\"https://raw.githubusercontent.com/e9t/nsmc/master/ratings.txt\", filename=\"ratings.txt\")"
      ],
      "metadata": {
        "colab": {
          "base_uri": "https://localhost:8080/"
        },
        "id": "wjP6F6vc6ogv",
        "outputId": "4e8f75b6-f255-494e-c4fb-3a720382492a"
      },
      "execution_count": null,
      "outputs": [
        {
          "output_type": "execute_result",
          "data": {
            "text/plain": [
              "('ratings.txt', <http.client.HTTPMessage at 0x7f317facf110>)"
            ]
          },
          "metadata": {},
          "execution_count": 8
        }
      ]
    },
    {
      "cell_type": "code",
      "source": [
        "train_data = pd.read_table('ratings.txt')\n",
        "train_data.head()"
      ],
      "metadata": {
        "colab": {
          "base_uri": "https://localhost:8080/",
          "height": 285
        },
        "id": "l8C-TAtq63X-",
        "outputId": "01a6ab4a-dcd1-4a99-cd72-9a84870bca3a"
      },
      "execution_count": null,
      "outputs": [
        {
          "output_type": "execute_result",
          "data": {
            "text/html": [
              "\n",
              "  <div id=\"df-5e98dbec-038d-45be-860f-c953e514ef1d\">\n",
              "    <div class=\"colab-df-container\">\n",
              "      <div>\n",
              "<style scoped>\n",
              "    .dataframe tbody tr th:only-of-type {\n",
              "        vertical-align: middle;\n",
              "    }\n",
              "\n",
              "    .dataframe tbody tr th {\n",
              "        vertical-align: top;\n",
              "    }\n",
              "\n",
              "    .dataframe thead th {\n",
              "        text-align: right;\n",
              "    }\n",
              "</style>\n",
              "<table border=\"1\" class=\"dataframe\">\n",
              "  <thead>\n",
              "    <tr style=\"text-align: right;\">\n",
              "      <th></th>\n",
              "      <th>id</th>\n",
              "      <th>document</th>\n",
              "      <th>label</th>\n",
              "    </tr>\n",
              "  </thead>\n",
              "  <tbody>\n",
              "    <tr>\n",
              "      <th>0</th>\n",
              "      <td>8112052</td>\n",
              "      <td>어릴때보고 지금다시봐도 재밌어요ㅋㅋ</td>\n",
              "      <td>1</td>\n",
              "    </tr>\n",
              "    <tr>\n",
              "      <th>1</th>\n",
              "      <td>8132799</td>\n",
              "      <td>디자인을 배우는 학생으로, 외국디자이너와 그들이 일군 전통을 통해 발전해가는 문화산...</td>\n",
              "      <td>1</td>\n",
              "    </tr>\n",
              "    <tr>\n",
              "      <th>2</th>\n",
              "      <td>4655635</td>\n",
              "      <td>폴리스스토리 시리즈는 1부터 뉴까지 버릴께 하나도 없음.. 최고.</td>\n",
              "      <td>1</td>\n",
              "    </tr>\n",
              "    <tr>\n",
              "      <th>3</th>\n",
              "      <td>9251303</td>\n",
              "      <td>와.. 연기가 진짜 개쩔구나.. 지루할거라고 생각했는데 몰입해서 봤다.. 그래 이런...</td>\n",
              "      <td>1</td>\n",
              "    </tr>\n",
              "    <tr>\n",
              "      <th>4</th>\n",
              "      <td>10067386</td>\n",
              "      <td>안개 자욱한 밤하늘에 떠 있는 초승달 같은 영화.</td>\n",
              "      <td>1</td>\n",
              "    </tr>\n",
              "  </tbody>\n",
              "</table>\n",
              "</div>\n",
              "      <button class=\"colab-df-convert\" onclick=\"convertToInteractive('df-5e98dbec-038d-45be-860f-c953e514ef1d')\"\n",
              "              title=\"Convert this dataframe to an interactive table.\"\n",
              "              style=\"display:none;\">\n",
              "        \n",
              "  <svg xmlns=\"http://www.w3.org/2000/svg\" height=\"24px\"viewBox=\"0 0 24 24\"\n",
              "       width=\"24px\">\n",
              "    <path d=\"M0 0h24v24H0V0z\" fill=\"none\"/>\n",
              "    <path d=\"M18.56 5.44l.94 2.06.94-2.06 2.06-.94-2.06-.94-.94-2.06-.94 2.06-2.06.94zm-11 1L8.5 8.5l.94-2.06 2.06-.94-2.06-.94L8.5 2.5l-.94 2.06-2.06.94zm10 10l.94 2.06.94-2.06 2.06-.94-2.06-.94-.94-2.06-.94 2.06-2.06.94z\"/><path d=\"M17.41 7.96l-1.37-1.37c-.4-.4-.92-.59-1.43-.59-.52 0-1.04.2-1.43.59L10.3 9.45l-7.72 7.72c-.78.78-.78 2.05 0 2.83L4 21.41c.39.39.9.59 1.41.59.51 0 1.02-.2 1.41-.59l7.78-7.78 2.81-2.81c.8-.78.8-2.07 0-2.86zM5.41 20L4 18.59l7.72-7.72 1.47 1.35L5.41 20z\"/>\n",
              "  </svg>\n",
              "      </button>\n",
              "      \n",
              "  <style>\n",
              "    .colab-df-container {\n",
              "      display:flex;\n",
              "      flex-wrap:wrap;\n",
              "      gap: 12px;\n",
              "    }\n",
              "\n",
              "    .colab-df-convert {\n",
              "      background-color: #E8F0FE;\n",
              "      border: none;\n",
              "      border-radius: 50%;\n",
              "      cursor: pointer;\n",
              "      display: none;\n",
              "      fill: #1967D2;\n",
              "      height: 32px;\n",
              "      padding: 0 0 0 0;\n",
              "      width: 32px;\n",
              "    }\n",
              "\n",
              "    .colab-df-convert:hover {\n",
              "      background-color: #E2EBFA;\n",
              "      box-shadow: 0px 1px 2px rgba(60, 64, 67, 0.3), 0px 1px 3px 1px rgba(60, 64, 67, 0.15);\n",
              "      fill: #174EA6;\n",
              "    }\n",
              "\n",
              "    [theme=dark] .colab-df-convert {\n",
              "      background-color: #3B4455;\n",
              "      fill: #D2E3FC;\n",
              "    }\n",
              "\n",
              "    [theme=dark] .colab-df-convert:hover {\n",
              "      background-color: #434B5C;\n",
              "      box-shadow: 0px 1px 3px 1px rgba(0, 0, 0, 0.15);\n",
              "      filter: drop-shadow(0px 1px 2px rgba(0, 0, 0, 0.3));\n",
              "      fill: #FFFFFF;\n",
              "    }\n",
              "  </style>\n",
              "\n",
              "      <script>\n",
              "        const buttonEl =\n",
              "          document.querySelector('#df-5e98dbec-038d-45be-860f-c953e514ef1d button.colab-df-convert');\n",
              "        buttonEl.style.display =\n",
              "          google.colab.kernel.accessAllowed ? 'block' : 'none';\n",
              "\n",
              "        async function convertToInteractive(key) {\n",
              "          const element = document.querySelector('#df-5e98dbec-038d-45be-860f-c953e514ef1d');\n",
              "          const dataTable =\n",
              "            await google.colab.kernel.invokeFunction('convertToInteractive',\n",
              "                                                     [key], {});\n",
              "          if (!dataTable) return;\n",
              "\n",
              "          const docLinkHtml = 'Like what you see? Visit the ' +\n",
              "            '<a target=\"_blank\" href=https://colab.research.google.com/notebooks/data_table.ipynb>data table notebook</a>'\n",
              "            + ' to learn more about interactive tables.';\n",
              "          element.innerHTML = '';\n",
              "          dataTable['output_type'] = 'display_data';\n",
              "          await google.colab.output.renderOutput(dataTable, element);\n",
              "          const docLink = document.createElement('div');\n",
              "          docLink.innerHTML = docLinkHtml;\n",
              "          element.appendChild(docLink);\n",
              "        }\n",
              "      </script>\n",
              "    </div>\n",
              "  </div>\n",
              "  "
            ],
            "text/plain": [
              "         id                                           document  label\n",
              "0   8112052                                어릴때보고 지금다시봐도 재밌어요ㅋㅋ      1\n",
              "1   8132799  디자인을 배우는 학생으로, 외국디자이너와 그들이 일군 전통을 통해 발전해가는 문화산...      1\n",
              "2   4655635               폴리스스토리 시리즈는 1부터 뉴까지 버릴께 하나도 없음.. 최고.      1\n",
              "3   9251303  와.. 연기가 진짜 개쩔구나.. 지루할거라고 생각했는데 몰입해서 봤다.. 그래 이런...      1\n",
              "4  10067386                        안개 자욱한 밤하늘에 떠 있는 초승달 같은 영화.      1"
            ]
          },
          "metadata": {},
          "execution_count": 9
        }
      ]
    },
    {
      "cell_type": "code",
      "source": [
        "train_data.isnull().sum()"
      ],
      "metadata": {
        "colab": {
          "base_uri": "https://localhost:8080/"
        },
        "id": "HBQ29OXWh0T8",
        "outputId": "70dccbe3-1636-4fd9-916b-66d8b07c7097"
      },
      "execution_count": null,
      "outputs": [
        {
          "output_type": "execute_result",
          "data": {
            "text/plain": [
              "id          0\n",
              "document    8\n",
              "label       0\n",
              "dtype: int64"
            ]
          },
          "metadata": {},
          "execution_count": 11
        }
      ]
    },
    {
      "cell_type": "code",
      "source": [
        "train_data = train_data.dropna(axis=0) # 결측 행 제거"
      ],
      "metadata": {
        "id": "7sd8S_B7iMpO"
      },
      "execution_count": null,
      "outputs": []
    },
    {
      "cell_type": "code",
      "source": [
        "train_data['document'] = train_data['document'].str.replace(\"[^ㄱ-ㅎㅏ-ㅣ가-힣 ]\",\"\")"
      ],
      "metadata": {
        "colab": {
          "base_uri": "https://localhost:8080/"
        },
        "id": "bjAK5DuljR3B",
        "outputId": "446888c5-268b-4b6b-84b7-2c757e8a3571"
      },
      "execution_count": null,
      "outputs": [
        {
          "output_type": "stream",
          "name": "stderr",
          "text": [
            "/usr/local/lib/python3.7/dist-packages/ipykernel_launcher.py:1: FutureWarning: The default value of regex will change from True to False in a future version.\n",
            "  \"\"\"Entry point for launching an IPython kernel.\n"
          ]
        }
      ]
    },
    {
      "cell_type": "code",
      "source": [
        "# 불용어 정의\n",
        "stopwords = ['의','가','이','은','들','는','좀','잘','걍','과','도','를','으로','자','에','와','한','하다']\n",
        "\n",
        "# 형태소 분석기 OKT를 사용한 토큰화 작업\n",
        "okt = Okt()\n",
        "from tqdm.notebook import tqdm # 진행 상황 시각화\n",
        "tokenized_data = []\n",
        "for sentence in tqdm(train_data['document']):\n",
        "    tokenized_sentence = okt.morphs(sentence, stem=True) # 토큰화\n",
        "    stopwords_removed_sentence = [word for word in tokenized_sentence if not word in stopwords] # 불용어 제거\n",
        "    tokenized_data.append(stopwords_removed_sentence)"
      ],
      "metadata": {
        "colab": {
          "base_uri": "https://localhost:8080/",
          "height": 49,
          "referenced_widgets": [
            "f01ca8d995f748fc8d33e743896d3aed",
            "18caf43b3d2b42debba598611ec21916",
            "19744332b0fd4d4698f1b0b96d828bc6",
            "6e4a60c3ed1642dba3aef6cfdfc2b3b4",
            "779cf48799ea4e0d919b2656ffcaff15",
            "bcd2732c748249dbb2f51217d3eade93",
            "186cfe36be2f4ecaa02f37e0a57a774b",
            "a1c292d86f7d413dabac73e4642f7f7e",
            "1cd8385b73c74e53a8c98e85bd86f34f",
            "2b82a00904e54937bf0c24679e047b4c",
            "74b564c1aa594281b17c8727ca8f5222"
          ]
        },
        "id": "fPAMcDAdjfFu",
        "outputId": "a544da9a-33b6-4a25-df19-2c3b9faadb7b"
      },
      "execution_count": null,
      "outputs": [
        {
          "output_type": "display_data",
          "data": {
            "application/vnd.jupyter.widget-view+json": {
              "model_id": "f01ca8d995f748fc8d33e743896d3aed",
              "version_minor": 0,
              "version_major": 2
            },
            "text/plain": [
              "  0%|          | 0/199992 [00:00<?, ?it/s]"
            ]
          },
          "metadata": {}
        }
      ]
    },
    {
      "cell_type": "code",
      "source": [
        "from gensim.models import Word2Vec\n",
        "\n",
        "model = Word2Vec(sentences = tokenized_data, size = 100, window = 5, min_count = 5, workers = 4, sg = 0)\n",
        "\n",
        "print(model.wv.most_similar(\"최민식\"))"
      ],
      "metadata": {
        "colab": {
          "base_uri": "https://localhost:8080/"
        },
        "id": "p2FV-lipjjiZ",
        "outputId": "f3256e13-9b2c-4e2a-ba20-163c80291e40"
      },
      "execution_count": null,
      "outputs": [
        {
          "output_type": "stream",
          "name": "stdout",
          "text": [
            "[('안성기', 0.8680018186569214), ('김명민', 0.8528748154640198), ('한석규', 0.8495897650718689), ('김수현', 0.8459886312484741), ('이민호', 0.842458188533783), ('임원희', 0.8423688411712646), ('유다인', 0.8371767401695251), ('엄정화', 0.8308849334716797), ('박중훈', 0.8288547396659851), ('엄태웅', 0.8279265761375427)]\n"
          ]
        }
      ]
    },
    {
      "cell_type": "markdown",
      "source": [
        "3. 사전 훈련된 Word2Vec 임베딩 소개"
      ],
      "metadata": {
        "id": "Gx8JRw0-63mX"
      }
    },
    {
      "cell_type": "code",
      "source": [
        "import gensim\n",
        "import urllib.request\n",
        "\n",
        "# 구글의 사전 훈련된 Word2Vec 모델을 로드.\n",
        "urllib.request.urlretrieve(\"https://s3.amazonaws.com/dl4j-distribution/GoogleNews-vectors-negative300.bin.gz\", \\\n",
        "                           filename=\"GoogleNews-vectors-negative300.bin.gz\")\n",
        "word2vec_model = gensim.models.KeyedVectors.load_word2vec_format('GoogleNews-vectors-negative300.bin.gz', binary=True)"
      ],
      "metadata": {
        "id": "yfas2Mlv7B7d"
      },
      "execution_count": null,
      "outputs": []
    },
    {
      "cell_type": "markdown",
      "source": [
        "4. 위키피디아로 Word2Vec 학습\n",
        "\n",
        "- 위키피디아 데이터 다운로드 및 통합"
      ],
      "metadata": {
        "id": "FFxG7YrP7FlP"
      }
    },
    {
      "cell_type": "code",
      "source": [
        "pip install wikiextractor\n",
        "\n",
        "# 형태소 분석기\n",
        "!git clone https://github.com/SOMJANG/Mecab-ko-for-Google-Colab.git\n",
        "%cd Mecab-ko-for-Google-Colab\n",
        "!bash install_mecab-ko_on_colab190912.sh\n",
        "\n",
        "# 위키피디아 데이터\n",
        "!wget https://dumps.wikimedia.org/kowiki/latest/kowiki-latest-pages-articles.xml.bz2\n",
        "\n",
        "# 위키익스트랙터로 위키피디아 덤프 파싱\n",
        "!python -m wikiextractor.WikiExtractor kowiki-latest-pages-articles.xml.bz2"
      ],
      "metadata": {
        "colab": {
          "base_uri": "https://localhost:8080/"
        },
        "id": "dlJPDKBDuKul",
        "outputId": "77cb9512-733d-4886-fcbb-5c02cab0565b"
      },
      "execution_count": null,
      "outputs": [
        {
          "output_type": "stream",
          "name": "stdout",
          "text": [
            "Collecting wikiextractor\n",
            "  Downloading wikiextractor-3.0.6-py3-none-any.whl (46 kB)\n",
            "\u001b[?25l\r\u001b[K     |███████                         | 10 kB 27.6 MB/s eta 0:00:01\r\u001b[K     |██████████████▏                 | 20 kB 30.8 MB/s eta 0:00:01\r\u001b[K     |█████████████████████▏          | 30 kB 20.6 MB/s eta 0:00:01\r\u001b[K     |████████████████████████████▎   | 40 kB 16.8 MB/s eta 0:00:01\r\u001b[K     |████████████████████████████████| 46 kB 2.8 MB/s \n",
            "\u001b[?25hInstalling collected packages: wikiextractor\n",
            "Successfully installed wikiextractor-3.0.6\n"
          ]
        }
      ]
    },
    {
      "cell_type": "code",
      "source": [
        "%ls"
      ],
      "metadata": {
        "colab": {
          "base_uri": "https://localhost:8080/"
        },
        "id": "ZKBpNzEvuNPh",
        "outputId": "e9d74f28-9256-44f2-a79b-e1524287d0d0"
      },
      "execution_count": null,
      "outputs": [
        {
          "output_type": "stream",
          "name": "stdout",
          "text": [
            "GoogleNews-vectors-negative300.bin.gz  \u001b[0m\u001b[01;34msample_data\u001b[0m/\n",
            "ratings.txt                            ted_en-20160408.xml\n"
          ]
        }
      ]
    },
    {
      "cell_type": "code",
      "source": [
        "def list_wiki(dirname):\n",
        "    filepaths = []\n",
        "    filenames = os.listdir(dirname)\n",
        "    for filename in filenames:\n",
        "        filepath = os.path.join(dirname, filename)\n",
        "\n",
        "        if os.path.isdir(filepath):\n",
        "            # 재귀 함수\n",
        "            filepaths.extend(list_wiki(filepath))\n",
        "        else:\n",
        "            find = re.findall(r\"wiki_[0-9][0-9]\", filepath)\n",
        "            if 0 < len(find):\n",
        "                filepaths.append(filepath)\n",
        "    return sorted(filepaths)\n",
        "    \n",
        "filepaths = list_wiki('text')"
      ],
      "metadata": {
        "id": "qAjAPTWZu78A"
      },
      "execution_count": null,
      "outputs": []
    },
    {
      "cell_type": "code",
      "source": [
        "with open(\"output_file.txt\", \"w\") as outfile:\n",
        "    for filename in filepaths:\n",
        "        with open(filename) as infile:\n",
        "            contents = infile.read()\n",
        "            outfile.write(contents)"
      ],
      "metadata": {
        "id": "bJcPuePJu_Zl"
      },
      "execution_count": null,
      "outputs": []
    },
    {
      "cell_type": "markdown",
      "source": [
        "- 형태소 분석"
      ],
      "metadata": {
        "id": "JoHqxnUCvC-q"
      }
    },
    {
      "cell_type": "code",
      "source": [
        "from tqdm import tqdm\n",
        "from konlpy.tag import Mecab\n",
        "\n",
        "mecab = Mecab()\n",
        "\n",
        "result = []\n",
        "\n",
        "for line in tqdm(lines):\n",
        "  # 빈 문자열이 아닌 경우에만 수행\n",
        "  if line:\n",
        "    result.append(mecab.morphs(line))"
      ],
      "metadata": {
        "id": "-uissPpBvCZm"
      },
      "execution_count": null,
      "outputs": []
    },
    {
      "cell_type": "markdown",
      "source": [
        "- Word2Vec 학습"
      ],
      "metadata": {
        "id": "G6p4cSB3vNXg"
      }
    },
    {
      "cell_type": "code",
      "source": [
        "from gensim.models import Word2Vec\n",
        "\n",
        "model = Word2Vec(result, size=100, window=5, min_count=5, workers=4, sg=0)\n",
        "\n",
        "model_result1 = model.wv.most_similar(\"대한민국\")\n",
        "print(model_result1)"
      ],
      "metadata": {
        "id": "lf_Ppeq0vRR_"
      },
      "execution_count": null,
      "outputs": []
    },
    {
      "cell_type": "markdown",
      "source": [
        "### 4) 네거티브 샘플링을 이용한 Word2Vec 구현 Skip-Gram with Negative Sampling, SGNS\n",
        "\n",
        "1. 네거티브 샘플링 Negative Sampling\n",
        "\n",
        "  Word2Vec의 출력층에서는 소프트맥스 함수를 지난 단어 집합 크기의 벡터와 실제값인 원-핫 벡터와 오차를 구하고, 임베딩 테이블에 있는 모든 단어에 대한 임베딩 값을 업데이트 -> 집합의 수가 많이 크다면 학습하기 어려운 모델이 된다.\n",
        "\n",
        "  네거티브 샘플링 : Word2Vec이 학습과정에서 전체 단어 집합이 아니라 일부 단어 집합에만 집중할 수 있하록 하는 방법, 하나의 중심단어에 대해 전체 단어 집합보다 훨씬 작은 단어지집합을 만들어 놓고 마지막 단계를 이진 분류 문제로 반환 (주변 단어들을 긍정 Positive, 랜덤 샘플링 된 단어들을 부정 Negative 레이블링)\n",
        "\n",
        "2. 네거티브 샘플링 Skip-Gram (SGNS)\n",
        "\n",
        "  기존 Skip-Gram : 중심 단어로 주변 단어 예측\n",
        "\n",
        "  네거티브 샘플링 Skip-Gram : 중심 단어와 주변 단어가 실제로 윈도우 크기 내에 존재하는 이웃 개체인지 그 확률 예측\n",
        "\n",
        "3. 20 뉴스그룹 데이터 전처리"
      ],
      "metadata": {
        "id": "k3dEBfLvvT7q"
      }
    },
    {
      "cell_type": "code",
      "source": [
        "import pandas as pd\n",
        "import numpy as np\n",
        "import nltk\n",
        "from nltk.corpus import stopwords\n",
        "from sklearn.datasets import fetch_20newsgroups\n",
        "from tensorflow.keras.preprocessing.text import Tokenizer\n",
        "\n",
        "dataset = fetch_20newsgroups(shuffle=True, random_state=1, remove=('headers', 'footers', 'quotes'))\n",
        "documents = dataset.data\n",
        "\n",
        "news_df = pd.DataFrame({'document':documents})\n",
        "# 특수 문자 제거\n",
        "news_df['clean_doc'] = news_df['document'].str.replace(\"[^a-zA-Z]\", \" \")\n",
        "# 길이가 3이하인 단어는 제거 (길이가 짧은 단어 제거)\n",
        "news_df['clean_doc'] = news_df['clean_doc'].apply(lambda x: ' '.join([w for w in x.split() if len(w)>3]))\n",
        "# 전체 단어에 대한 소문자 변환\n",
        "news_df['clean_doc'] = news_df['clean_doc'].apply(lambda x: x.lower())\n",
        "\n",
        "news_df.replace(\"\", float(\"NaN\"), inplace=True)\n",
        "news_df.isnull().values.any()\n",
        "\n",
        "news_df.dropna(inplace=True)\n",
        "\n",
        "# 불용어를 제거\n",
        "stop_words = stopwords.words('english')\n",
        "tokenized_doc = news_df['clean_doc'].apply(lambda x: x.split())\n",
        "tokenized_doc = tokenized_doc.apply(lambda x: [item for item in x if item not in stop_words])\n",
        "tokenized_doc = tokenized_doc.to_list()\n",
        "\n",
        "# 단어가 1개 이하인 샘플의 인덱스를 찾아서 저장하고, 해당 샘플들은 제거.\n",
        "drop_train = [index for index, sentence in enumerate(tokenized_doc) if len(sentence) <= 1]\n",
        "tokenized_doc = np.delete(tokenized_doc, drop_train, axis=0)\n",
        "print('총 샘플 수 :',len(tokenized_doc))\n",
        "\n",
        "tokenizer = Tokenizer()\n",
        "tokenizer.fit_on_texts(tokenized_doc)\n",
        "\n",
        "word2idx = tokenizer.word_index\n",
        "idx2word = {value : key for key, value in word2idx.items()}\n",
        "encoded = tokenizer.texts_to_sequences(tokenized_doc)\n",
        "\n",
        "vocab_size = len(word2idx) + 1 "
      ],
      "metadata": {
        "id": "Uplk_5zvsv_g"
      },
      "execution_count": null,
      "outputs": []
    },
    {
      "cell_type": "markdown",
      "source": [
        "4. 네거티브 샘플링을 통한 데이터셋 구성하기"
      ],
      "metadata": {
        "id": "JRfHUk3Iubyw"
      }
    },
    {
      "cell_type": "code",
      "source": [
        "from tensorflow.keras.preprocessing.sequence import skipgrams\n",
        "# 네거티브 샘플링\n",
        "skip_grams = [skipgrams(sample, vocabulary_size=vocab_size, window_size=10) for sample in encoded[:10]]"
      ],
      "metadata": {
        "id": "AdghQyf5uge3"
      },
      "execution_count": null,
      "outputs": []
    },
    {
      "cell_type": "code",
      "source": [
        "skip_grams = [skipgrams(sample, vocabulary_size=vocab_size, window_size=10) for sample in encoded]"
      ],
      "metadata": {
        "id": "RgC_PCb10FYR"
      },
      "execution_count": null,
      "outputs": []
    },
    {
      "cell_type": "markdown",
      "source": [
        "5. SGNS 구현"
      ],
      "metadata": {
        "id": "JKhukL2b0M0W"
      }
    },
    {
      "cell_type": "code",
      "source": [
        "from tensorflow.keras.models import Sequential, Model\n",
        "from tensorflow.keras.layers import Embedding, Reshape, Activation, Input\n",
        "from tensorflow.keras.layers import Dot\n",
        "from tensorflow.keras.utils import plot_model\n",
        "from IPython.display import SVG\n",
        "\n",
        "embedding_dim = 100\n",
        "\n",
        "# 중심 단어를 위한 임베딩 테이블\n",
        "w_inputs = Input(shape=(1, ), dtype='int32')\n",
        "word_embedding = Embedding(vocab_size, embedding_dim)(w_inputs)\n",
        "\n",
        "# 주변 단어를 위한 임베딩 테이블\n",
        "c_inputs = Input(shape=(1, ), dtype='int32')\n",
        "context_embedding  = Embedding(vocab_size, embedding_dim)(c_inputs)\n",
        "\n",
        "dot_product = Dot(axes=2)([word_embedding, context_embedding])\n",
        "dot_product = Reshape((1,), input_shape=(1, 1))(dot_product)\n",
        "output = Activation('sigmoid')(dot_product)\n",
        "\n",
        "model = Model(inputs=[w_inputs, c_inputs], outputs=output)\n",
        "model.summary()\n",
        "model.compile(loss='binary_crossentropy', optimizer='adam')\n",
        "plot_model(model, to_file='model3.png', show_shapes=True, show_layer_names=True, rankdir='TB')\n",
        "\n",
        "for epoch in range(1, 6):\n",
        "    loss = 0\n",
        "    for _, elem in enumerate(skip_grams):\n",
        "        first_elem = np.array(list(zip(*elem[0]))[0], dtype='int32')\n",
        "        second_elem = np.array(list(zip(*elem[0]))[1], dtype='int32')\n",
        "        labels = np.array(elem[1], dtype='int32')\n",
        "        X = [first_elem, second_elem]\n",
        "        Y = labels\n",
        "        loss += model.train_on_batch(X,Y)  \n",
        "    print('Epoch :',epoch, 'Loss :',loss)"
      ],
      "metadata": {
        "id": "51TIqme00QcB"
      },
      "execution_count": null,
      "outputs": []
    },
    {
      "cell_type": "markdown",
      "source": [
        "6. 결과 확인"
      ],
      "metadata": {
        "id": "cV8DiNHm1IHS"
      }
    },
    {
      "cell_type": "code",
      "source": [
        "import gensim\n",
        "\n",
        "f = open('vectors.txt' ,'w')\n",
        "f.write('{} {}\\n'.format(vocab_size-1, embed_size))\n",
        "vectors = model.get_weights()[0]\n",
        "for word, i in tokenizer.word_index.items():\n",
        "    f.write('{} {}\\n'.format(word, ' '.join(map(str, list(vectors[i, :])))))\n",
        "f.close()\n",
        "\n",
        "# 모델 로드\n",
        "w2v = gensim.models.KeyedVectors.load_word2vec_format('./vectors.txt', binary=False)\n",
        "\n",
        "w2v.most_similar(positive=['soldiers'])"
      ],
      "metadata": {
        "id": "6V57t06N1J24"
      },
      "execution_count": null,
      "outputs": []
    },
    {
      "cell_type": "markdown",
      "source": [
        "### 5) 글로브 Grove\n",
        "\n",
        "1. 기존 방법론에 대한 비판\n",
        "\n",
        "  LSA : 문서에서 각 단어의 빈도수를 카우늩한 행렬이라는 전체적인 통계정보를 입력으로 받아 차원을 축소하여 잠재된 의미를 끌어내는 방법론, 성능 떨어진다.\n",
        "\n",
        "  Word2Vec : 실제값과 예측값에 대한 오차를 손실함수를 통해 줄여 나가며 학습하는 예측 기반 방법론, 주변 단어만 고려하기 때문에 전체적인 통계 정보 반영 불가\n",
        "\n",
        "2. 원도우 기반 동시 등장 행렬\n",
        "\n",
        "  행과 열을 전체 단어 집합의 단어들로 구성, i 단어의 윈도우 크기 내에서 k 단어가 등장한 횟수를 i 행 k 열애 기재한 행렬 (전치 행렬)\n",
        "\n",
        "3. 동시 등장 확률 co-occurrence Probability\n",
        "\n",
        "  동시 등장 행렬로부터 특정 단어 i의 전체 등장 횟수를 카운트하고, 특정 단어 i 가 등장했을 때 어떤 단어 k가 등장한트횟수를 카운트하여 계산한 조건부 확률\n",
        "\n",
        "4. 손실 함수\n",
        "\n",
        "  글로브의 아이디어 : 임베딩된 중심 단어와 주변 단어 벡터의 내적이 전체 코퍼스에서의 동시 등장확률이 되도록 만드는 것\n",
        "\n",
        "5. 글로브 훈련"
      ],
      "metadata": {
        "id": "_s-f2Djz1PSi"
      }
    },
    {
      "cell_type": "code",
      "source": [
        "pip install glove_python_binary\n",
        "\n",
        "from glove import Corpus, Glove\n",
        "\n",
        "corpus = Corpus() \n",
        "\n",
        "# 훈련 데이터로부터 GloVe에서 사용할 동시 등장 행렬 생성\n",
        "corpus.fit(result, window=5)\n",
        "glove = Glove(no_components=100, learning_rate=0.05)\n",
        "\n",
        "# 학습에 이용할 쓰레드의 개수는 4로 설정, 에포크는 20.\n",
        "glove.fit(corpus.matrix, epochs=20, no_threads=4, verbose=True)\n",
        "glove.add_dictionary(corpus.dictionary)\n",
        "\n",
        "print(glove.most_similar(\"man\"))"
      ],
      "metadata": {
        "id": "jsxkmiPR7C_v"
      },
      "execution_count": null,
      "outputs": []
    },
    {
      "cell_type": "markdown",
      "source": [
        "### 06) 패스트 텍스트 FastText\n",
        "\n",
        "하나의 단어 안에도 여러 단어들이 존재하는 것으로 간주 (내부 단어, 서브워드)\n",
        "\n",
        "1. 내부 단어 subword 의 학습\n",
        "\n",
        "  FastText에서는 각 단어는 글자 단위 n-gram의 구성으로 취급 (단어를 n개로 나눈 뒤 벡터화)\n",
        "\n",
        "2. 모르는 단어 Out of Vocabulary, OOV 에 대한 대응\n",
        "\n",
        "  내부 단어를 통해 모르는 단어에 대해서도단자른 단어와의 유사도 계산 가능\n",
        "\n",
        "3. 단어 집합 내 빈도 수가 적었던 단어에 대한 대응\n",
        "\n",
        "  만약 단어가 희귀 단어라 해도 그 단어의 n-gram이 다른 단어의 n-gram와 겹치는 경우라면 비교적 높은 임베딩 얻는다.\n",
        "\n",
        "  -> 노이즈가 많은 코퍼스에 강점 가진다.\n",
        "\n",
        "4. 한국어에서 FastText\n",
        "\n",
        "- 음절 단위\n",
        "\n",
        "- 자모 단위\n",
        "\n",
        "  ㅈ ㅏ _ ㅇ ㅕ ㄴ ㅇ ㅓ\n",
        "\n",
        "### 08) 사전 훈련된 워드 임베딩\n",
        "\n",
        "1. 케라스 임베딩 층\n",
        "\n",
        "- 임베딩 층은 룩업테이블이다.\n",
        "\n",
        "  어떤 단어 -> 단어에 부여된 고유한 정수값 -> 임베딩 층 통과 -> 밀집 벡터\n",
        "\n",
        "  케라스는 단어를 정수 인코딩까지만 진행 후 임베딩 층의 입력으로 사용\n",
        "\n",
        "2. 사전 훈련된 워드 임베딩\n",
        "\n",
        "GloVe 다운로드 링크 : http://nlp.stanford.edu/data/glove.6B.zip\n",
        "\n",
        "Word2Vec 다운로드 링크 : https://drive.google.com/file/d/0B7XkCwpI5KDYNlNUTTlSS21pQmM\n",
        "\n",
        "3. 엘모 embedding from language model, ELMo\n",
        "\n",
        "언어모델로 하는 임베딩 -> 사전 훈련된 언어모델 사용\n",
        "\n",
        "텐서플로우 2.0에서는 사용 불가\n",
        "\n",
        "1. ELMo\n",
        "\n",
        "같은 표기 단어라도 문맥에 따라 다르게 워드 임베딩 할 수 있으면 자연어 처리 성능 향상 가능 : 문맥을 반영한 워드 임베딩\n",
        "\n",
        "2. biLM 의 사전 훈련\n",
        "\n",
        "  ELMo : 순방향, 역방향 RNN 모두 별개의 모델로 학습에 활용 -> biLM\n",
        "\n",
        "3. biLM의 활용\n",
        "\n",
        "  ELMo가 임베딩 벡터를 얻는 과정\n",
        "\n",
        "  -> 각 층의 출력값을 연결\n",
        "\n",
        "  -> 각 층의 출력값 별로 가중치 줌\n",
        "\n",
        "  -> 각 층의 출력값을 모두 더함\n",
        "\n",
        "  -> 벡터의 크기를 결정하는 스칼라 매개변수를 곱함\n",
        "\n",
        "4. ELMo 표현을 사용해서 스팸 메일 분류\n",
        "\n"
      ],
      "metadata": {
        "id": "J1zI3pyw7SIM"
      }
    },
    {
      "cell_type": "markdown",
      "source": [
        "### 10) 임베딩 벡터의 시각화 embedding Visualization\n",
        "\n",
        "구글 임베딩 프로젝터 https://arxiv.org/pdf/1611.05469v1.pdf\n",
        "\n",
        "### 11) 문서 벡터를 이용한 추천 시스템\n",
        "\n",
        "1. 데이터 로드\n",
        "\n",
        "https://drive.google.com/file/d/15Q7DZ7xrJsI2Hji-WbkU9j1mwnODBd5A/view?usp=sharing"
      ],
      "metadata": {
        "id": "IkZDBQMBO1Dt"
      }
    },
    {
      "cell_type": "code",
      "source": [
        "import urllib.request\n",
        "import pandas as pd\n",
        "import numpy as np\n",
        "import matplotlib.pyplot as plt\n",
        "import requests\n",
        "import re\n",
        "from PIL import Image\n",
        "from io import BytesIO\n",
        "from nltk.tokenize import RegexpTokenizer\n",
        "import nltk\n",
        "from gensim.models import Word2Vec\n",
        "from gensim.models import KeyedVectors\n",
        "from nltk.corpus import stopwords\n",
        "from sklearn.metrics.pairwise import cosine_similarity\n"
      ],
      "metadata": {
        "id": "k0TCt-vkOzi-"
      },
      "execution_count": null,
      "outputs": []
    },
    {
      "cell_type": "code",
      "source": [
        "urllib.request.urlretrieve(\"https://raw.githubusercontent.com/ukairia777/tensorflow-nlp-tutorial/main/09.%20Word%20Embedding/dataset/data.csv\", filename=\"data.csv\")\n",
        "df = pd.read_csv(\"data.csv\")\n",
        "\n",
        "df.head()"
      ],
      "metadata": {
        "colab": {
          "base_uri": "https://localhost:8080/",
          "height": 727
        },
        "id": "GqX9PuQFPoTw",
        "outputId": "f3fa5b05-950f-44a3-93eb-bf64c691d2ee"
      },
      "execution_count": null,
      "outputs": [
        {
          "output_type": "execute_result",
          "data": {
            "text/html": [
              "\n",
              "  <div id=\"df-e43f9884-a0a6-4b45-be48-afb59437239a\">\n",
              "    <div class=\"colab-df-container\">\n",
              "      <div>\n",
              "<style scoped>\n",
              "    .dataframe tbody tr th:only-of-type {\n",
              "        vertical-align: middle;\n",
              "    }\n",
              "\n",
              "    .dataframe tbody tr th {\n",
              "        vertical-align: top;\n",
              "    }\n",
              "\n",
              "    .dataframe thead th {\n",
              "        text-align: right;\n",
              "    }\n",
              "</style>\n",
              "<table border=\"1\" class=\"dataframe\">\n",
              "  <thead>\n",
              "    <tr style=\"text-align: right;\">\n",
              "      <th></th>\n",
              "      <th>Unnamed: 0</th>\n",
              "      <th>Desc</th>\n",
              "      <th>Unnamed: 0.1</th>\n",
              "      <th>author</th>\n",
              "      <th>genre</th>\n",
              "      <th>image_link</th>\n",
              "      <th>rating</th>\n",
              "      <th>title</th>\n",
              "    </tr>\n",
              "  </thead>\n",
              "  <tbody>\n",
              "    <tr>\n",
              "      <th>0</th>\n",
              "      <td>0</td>\n",
              "      <td>We know that power is shifting: From West to E...</td>\n",
              "      <td>0.0</td>\n",
              "      <td>Moisés Naím</td>\n",
              "      <td>Business</td>\n",
              "      <td>https://i.gr-assets.com/images/S/compressed.ph...</td>\n",
              "      <td>3.63</td>\n",
              "      <td>The End of Power: From Boardrooms to Battlefie...</td>\n",
              "    </tr>\n",
              "    <tr>\n",
              "      <th>1</th>\n",
              "      <td>1</td>\n",
              "      <td>Following the success of The Accidental Billio...</td>\n",
              "      <td>1.0</td>\n",
              "      <td>Blake J. Harris</td>\n",
              "      <td>Business</td>\n",
              "      <td>https://i.gr-assets.com/images/S/compressed.ph...</td>\n",
              "      <td>3.94</td>\n",
              "      <td>Console Wars: Sega, Nintendo, and the Battle t...</td>\n",
              "    </tr>\n",
              "    <tr>\n",
              "      <th>2</th>\n",
              "      <td>2</td>\n",
              "      <td>How to tap the power of social software and ne...</td>\n",
              "      <td>2.0</td>\n",
              "      <td>Chris Brogan</td>\n",
              "      <td>Business</td>\n",
              "      <td>https://i.gr-assets.com/images/S/compressed.ph...</td>\n",
              "      <td>3.78</td>\n",
              "      <td>Trust Agents: Using the Web to Build Influence...</td>\n",
              "    </tr>\n",
              "    <tr>\n",
              "      <th>3</th>\n",
              "      <td>3</td>\n",
              "      <td>William J. Bernstein is an American financial ...</td>\n",
              "      <td>3.0</td>\n",
              "      <td>William J. Bernstein</td>\n",
              "      <td>Business</td>\n",
              "      <td>https://i.gr-assets.com/images/S/compressed.ph...</td>\n",
              "      <td>4.20</td>\n",
              "      <td>The Four Pillars of Investing</td>\n",
              "    </tr>\n",
              "    <tr>\n",
              "      <th>4</th>\n",
              "      <td>4</td>\n",
              "      <td>Amazing book. And I joined Steve Jobs and many...</td>\n",
              "      <td>4.0</td>\n",
              "      <td>Akio Morita</td>\n",
              "      <td>Business</td>\n",
              "      <td>https://i.gr-assets.com/images/S/compressed.ph...</td>\n",
              "      <td>4.05</td>\n",
              "      <td>Made in Japan: Akio Morita and Sony</td>\n",
              "    </tr>\n",
              "  </tbody>\n",
              "</table>\n",
              "</div>\n",
              "      <button class=\"colab-df-convert\" onclick=\"convertToInteractive('df-e43f9884-a0a6-4b45-be48-afb59437239a')\"\n",
              "              title=\"Convert this dataframe to an interactive table.\"\n",
              "              style=\"display:none;\">\n",
              "        \n",
              "  <svg xmlns=\"http://www.w3.org/2000/svg\" height=\"24px\"viewBox=\"0 0 24 24\"\n",
              "       width=\"24px\">\n",
              "    <path d=\"M0 0h24v24H0V0z\" fill=\"none\"/>\n",
              "    <path d=\"M18.56 5.44l.94 2.06.94-2.06 2.06-.94-2.06-.94-.94-2.06-.94 2.06-2.06.94zm-11 1L8.5 8.5l.94-2.06 2.06-.94-2.06-.94L8.5 2.5l-.94 2.06-2.06.94zm10 10l.94 2.06.94-2.06 2.06-.94-2.06-.94-.94-2.06-.94 2.06-2.06.94z\"/><path d=\"M17.41 7.96l-1.37-1.37c-.4-.4-.92-.59-1.43-.59-.52 0-1.04.2-1.43.59L10.3 9.45l-7.72 7.72c-.78.78-.78 2.05 0 2.83L4 21.41c.39.39.9.59 1.41.59.51 0 1.02-.2 1.41-.59l7.78-7.78 2.81-2.81c.8-.78.8-2.07 0-2.86zM5.41 20L4 18.59l7.72-7.72 1.47 1.35L5.41 20z\"/>\n",
              "  </svg>\n",
              "      </button>\n",
              "      \n",
              "  <style>\n",
              "    .colab-df-container {\n",
              "      display:flex;\n",
              "      flex-wrap:wrap;\n",
              "      gap: 12px;\n",
              "    }\n",
              "\n",
              "    .colab-df-convert {\n",
              "      background-color: #E8F0FE;\n",
              "      border: none;\n",
              "      border-radius: 50%;\n",
              "      cursor: pointer;\n",
              "      display: none;\n",
              "      fill: #1967D2;\n",
              "      height: 32px;\n",
              "      padding: 0 0 0 0;\n",
              "      width: 32px;\n",
              "    }\n",
              "\n",
              "    .colab-df-convert:hover {\n",
              "      background-color: #E2EBFA;\n",
              "      box-shadow: 0px 1px 2px rgba(60, 64, 67, 0.3), 0px 1px 3px 1px rgba(60, 64, 67, 0.15);\n",
              "      fill: #174EA6;\n",
              "    }\n",
              "\n",
              "    [theme=dark] .colab-df-convert {\n",
              "      background-color: #3B4455;\n",
              "      fill: #D2E3FC;\n",
              "    }\n",
              "\n",
              "    [theme=dark] .colab-df-convert:hover {\n",
              "      background-color: #434B5C;\n",
              "      box-shadow: 0px 1px 3px 1px rgba(0, 0, 0, 0.15);\n",
              "      filter: drop-shadow(0px 1px 2px rgba(0, 0, 0, 0.3));\n",
              "      fill: #FFFFFF;\n",
              "    }\n",
              "  </style>\n",
              "\n",
              "      <script>\n",
              "        const buttonEl =\n",
              "          document.querySelector('#df-e43f9884-a0a6-4b45-be48-afb59437239a button.colab-df-convert');\n",
              "        buttonEl.style.display =\n",
              "          google.colab.kernel.accessAllowed ? 'block' : 'none';\n",
              "\n",
              "        async function convertToInteractive(key) {\n",
              "          const element = document.querySelector('#df-e43f9884-a0a6-4b45-be48-afb59437239a');\n",
              "          const dataTable =\n",
              "            await google.colab.kernel.invokeFunction('convertToInteractive',\n",
              "                                                     [key], {});\n",
              "          if (!dataTable) return;\n",
              "\n",
              "          const docLinkHtml = 'Like what you see? Visit the ' +\n",
              "            '<a target=\"_blank\" href=https://colab.research.google.com/notebooks/data_table.ipynb>data table notebook</a>'\n",
              "            + ' to learn more about interactive tables.';\n",
              "          element.innerHTML = '';\n",
              "          dataTable['output_type'] = 'display_data';\n",
              "          await google.colab.output.renderOutput(dataTable, element);\n",
              "          const docLink = document.createElement('div');\n",
              "          docLink.innerHTML = docLinkHtml;\n",
              "          element.appendChild(docLink);\n",
              "        }\n",
              "      </script>\n",
              "    </div>\n",
              "  </div>\n",
              "  "
            ],
            "text/plain": [
              "   Unnamed: 0  ...                                              title\n",
              "0           0  ...  The End of Power: From Boardrooms to Battlefie...\n",
              "1           1  ...  Console Wars: Sega, Nintendo, and the Battle t...\n",
              "2           2  ...  Trust Agents: Using the Web to Build Influence...\n",
              "3           3  ...                      The Four Pillars of Investing\n",
              "4           4  ...                Made in Japan: Akio Morita and Sony\n",
              "\n",
              "[5 rows x 8 columns]"
            ]
          },
          "metadata": {},
          "execution_count": 2
        }
      ]
    },
    {
      "cell_type": "code",
      "source": [
        "df['Desc'].isnull().sum()"
      ],
      "metadata": {
        "colab": {
          "base_uri": "https://localhost:8080/"
        },
        "id": "TuTkHsk1QK0E",
        "outputId": "36795121-ba45-4e84-a7e1-073c0a59dd92"
      },
      "execution_count": null,
      "outputs": [
        {
          "output_type": "execute_result",
          "data": {
            "text/plain": [
              "0"
            ]
          },
          "metadata": {},
          "execution_count": 3
        }
      ]
    },
    {
      "cell_type": "code",
      "source": [
        "import nltk\n",
        "nltk.download('stopwords')\n",
        "\n",
        "def preprocessing(text):\n",
        "  text = ''.join(i for i in text if ord(i)<128)\n",
        "  text = text.lower()\n",
        "  stop = set(stopwords.words('english'))\n",
        "  text = [w for w in text.split() if not w in stop]\n",
        "  text = ' '.join(text)\n",
        "  html = re.compile('<.*?>')\n",
        "  text = html.sub('',text)\n",
        "  tokenizer = RegexpTokenizer(r'[a-zA-Z]+')\n",
        "  text = tokenizer.tokenize(text)\n",
        "  return ' '.join(text)\n",
        "\n",
        "df['clean'] = df['Desc'].apply(preprocessing)\n",
        "df['clean'][:5]"
      ],
      "metadata": {
        "colab": {
          "base_uri": "https://localhost:8080/"
        },
        "id": "mJii5U8ZQdu0",
        "outputId": "273251b1-c314-422e-d7ae-473d8bc2f91b"
      },
      "execution_count": null,
      "outputs": [
        {
          "output_type": "stream",
          "name": "stdout",
          "text": [
            "[nltk_data] Downloading package stopwords to /root/nltk_data...\n",
            "[nltk_data]   Package stopwords is already up-to-date!\n"
          ]
        },
        {
          "output_type": "execute_result",
          "data": {
            "text/plain": [
              "0    know power shifting west east north south pres...\n",
              "1    following success accidental billionaires mone...\n",
              "2    tap power social software networks build busin...\n",
              "3    william j bernstein american financial theoris...\n",
              "4    amazing book joined steve jobs many akio morit...\n",
              "Name: clean, dtype: object"
            ]
          },
          "metadata": {},
          "execution_count": 13
        }
      ]
    },
    {
      "cell_type": "code",
      "source": [
        "df['clean'].replace('',np.nan,inplace = True)\n",
        "df = df[df['clean'].notna()]\n",
        "\n",
        "corpus = []\n",
        "for words in df['clean']:\n",
        "  corpus.append(words.split())"
      ],
      "metadata": {
        "id": "FGh0FUUXUGJh"
      },
      "execution_count": null,
      "outputs": []
    },
    {
      "cell_type": "markdown",
      "source": [
        "2. 사전 훈련된 워드 임베딩 사용"
      ],
      "metadata": {
        "id": "kdXhxw76UxYj"
      }
    },
    {
      "cell_type": "code",
      "source": [
        "urllib.request.urlretrieve(\"https://s3.amazonaws.com/dl4j-distribution/GoogleNews-vectors-negative300.bin.gz\", \\\n",
        "                           filename=\"GoogleNews-vectors-negative300.bin.gz\")\n",
        "\n",
        "word2vec_model = Word2Vec(size = 300, window=5, min_count = 2, workers = -1)\n",
        "word2vec_model.build_vocab(corpus)\n",
        "word2vec_model.intersect_word2vec_format('GoogleNews-vectors-negative300.bin.gz', lockf=1.0, binary=True)\n",
        "word2vec_model.train(corpus, total_examples = word2vec_model.corpus_count, epochs = 15)\n"
      ],
      "metadata": {
        "colab": {
          "base_uri": "https://localhost:8080/"
        },
        "id": "OV3kCjsWU88I",
        "outputId": "f33cb8a5-87cf-4b78-fd83-6f1a6f3e093d"
      },
      "execution_count": null,
      "outputs": [
        {
          "output_type": "execute_result",
          "data": {
            "text/plain": [
              "(0, 0)"
            ]
          },
          "metadata": {},
          "execution_count": 16
        }
      ]
    },
    {
      "cell_type": "markdown",
      "source": [
        "3. 단어 벡터의 평균 구하기"
      ],
      "metadata": {
        "id": "sJptuuVAVW87"
      }
    },
    {
      "cell_type": "code",
      "source": [
        "def get_document_vectors(document_list):\n",
        "    document_embedding_list = []\n",
        "\n",
        "    # 각 문서에 대해서\n",
        "    for line in document_list:\n",
        "        doc2vec = None\n",
        "        count = 0\n",
        "        for word in line.split():\n",
        "            if word in word2vec_model.wv.vocab:\n",
        "                count += 1\n",
        "                # 해당 문서에 있는 모든 단어들의 벡터값을 더한다.\n",
        "                if doc2vec is None:\n",
        "                    doc2vec = word2vec_model[word]\n",
        "                else:\n",
        "                    doc2vec = doc2vec + word2vec_model[word]\n",
        "\n",
        "        if doc2vec is not None:\n",
        "            # 단어 벡터를 모두 더한 벡터의 값을 문서 길이로 나눠준다.\n",
        "            doc2vec = doc2vec / count\n",
        "            document_embedding_list.append(doc2vec)\n",
        "\n",
        "    # 각 문서에 대한 문서 벡터 리스트를 리턴\n",
        "    return document_embedding_list\n",
        "\n",
        "document_embedding_list = get_document_vectors(df['clean'])"
      ],
      "metadata": {
        "colab": {
          "base_uri": "https://localhost:8080/"
        },
        "id": "toHCv6WeVby_",
        "outputId": "a1f52511-049e-4f1f-b217-c470b92aaff5"
      },
      "execution_count": null,
      "outputs": [
        {
          "output_type": "stream",
          "name": "stderr",
          "text": [
            "/usr/local/lib/python3.7/dist-packages/ipykernel_launcher.py:13: DeprecationWarning: Call to deprecated `__getitem__` (Method will be removed in 4.0.0, use self.wv.__getitem__() instead).\n",
            "  del sys.path[0]\n",
            "/usr/local/lib/python3.7/dist-packages/ipykernel_launcher.py:15: DeprecationWarning: Call to deprecated `__getitem__` (Method will be removed in 4.0.0, use self.wv.__getitem__() instead).\n",
            "  from ipykernel import kernelapp as app\n"
          ]
        }
      ]
    },
    {
      "cell_type": "markdown",
      "source": [
        "4. 추천 시스템 구현"
      ],
      "metadata": {
        "id": "r5MKGPN8Wsfm"
      }
    },
    {
      "cell_type": "code",
      "source": [
        "# 각 문서 벡터 간의 코사인 유사도를 구함\n",
        "cosine_similarities = cosine_similarity(document_embedding_list, document_embedding_list)\n",
        "\n",
        "# 줄거리 유사한 문서\n",
        "def recommendations(title):\n",
        "  books = df[['title','image_link']]\n",
        "  indices = pd.Series(df.index,index = df['title']).drop_duplicates()\n",
        "  idx = indices[title]\n",
        "\n",
        "  sim_scores = list(enumerate(cosine_similarities[idx]))\n",
        "  sim_scores = sorted(sim_scores,key = lambda x: x[1],reverse= True)\n",
        "  sim_scores = sim_scores[1:6]\n",
        "\n",
        "  book_indices = [i[0] for i in sim_scores]\n",
        "\n",
        "  recommend = books.iloc[book_indices].reset_index(drop=True)\n",
        "  \n",
        "  print(recommend['title'])\n",
        "\n",
        "recommendations('The Murder of Roger Ackroyd')"
      ],
      "metadata": {
        "colab": {
          "base_uri": "https://localhost:8080/"
        },
        "id": "E2Umx9O4WwMA",
        "outputId": "939374dd-f8cd-4db3-a190-a222ce15e2fb"
      },
      "execution_count": null,
      "outputs": [
        {
          "output_type": "stream",
          "name": "stdout",
          "text": [
            "0              Night Film\n",
            "1    The Cuckoo's Calling\n",
            "2            Mystic River\n",
            "3          Case Histories\n",
            "4            Mr. Mercedes\n",
            "Name: title, dtype: object\n"
          ]
        }
      ]
    },
    {
      "cell_type": "markdown",
      "source": [
        "### 12) 문서 임베딩 : 워드 임베딩의평균\n",
        "\n",
        "특정 문장 내의 단어들의 임베딩 벡터들의 평균이 그 문장의 벡터가 될 수 있다.\n",
        "\n",
        "임베딩이 잘 된 상황에서는 단어 벡터들의 평균만으로 텍스트 분류를 수행할 수 있다.\n",
        "\n",
        "Embedding() 다음에 GlobalAveragePooling1D()을 추가하면 해당 문장의 모든 단어 벡터들의 평균 벡터를 구한다.\n",
        "\n",
        "### 13) Doc2Vec로 공시 사업 보고서 유사도 계산\n",
        "\n",
        "Doc2Vec : Word2Vec 변형\n",
        "\n",
        "https://arxiv.org/abs/1405.4053\n",
        "\n",
        "1. 공시 사업 보고서 로드 및 전처리"
      ],
      "metadata": {
        "id": "oOPbUtlKlIeI"
      }
    },
    {
      "cell_type": "code",
      "source": [
        "# dart.csv 파일 다운로드\n",
        "!wget --load-cookies /tmp/cookies.txt \"https://docs.google.com/uc?export=download&confirm=$(wget --quiet --save-cookies /tmp/cookies.txt --keep-session-cookies --no-check-certificate 'https://docs.google.com/uc?export=download&id=1nIUZxASrbIa0Z2xzGVgX1dqjtnFCoKNT' -O- | sed -rn 's/.*confirm=([0-9A-Za-z_]+).*/\\1\\n/p')&id=1nIUZxASrbIa0Z2xzGVgX1dqjtnFCoKNT\" -O dart.csv && rm -rf /tmp/cookies.txt\n",
        "\n",
        "# 형태소 분석기 Mecab 설치\n",
        "!git clone https://github.com/SOMJANG/Mecab-ko-for-Google-Colab.git\n",
        "%cd Mecab-ko-for-Google-Colab\n",
        "!bash install_mecab-ko_on_colab190912.sh\n",
        "\n",
        "import pandas as pd\n",
        "from konlpy.tag import Mecab\n",
        "from gensim.models.doc2vec import TaggedDocument\n",
        "from tqdm import tqdm\n",
        "\n",
        "df = pd.read_csv('/content/dart.csv',sep=',')\n",
        "df = df.dropna()\n",
        "\n",
        "mecab = Mecab()\n",
        "tagged_corpus_list = []\n",
        "\n",
        "for index, row in tqdm(df.iterrows(), total=len(df)):\n",
        "  text = row['business']\n",
        "  tag = row['name']\n",
        "  tagged_corpus_list.append(TaggedDocument(tags=[tag], words=mecab.morphs(text)))"
      ],
      "metadata": {
        "id": "-24TdTOImd8U"
      },
      "execution_count": null,
      "outputs": []
    },
    {
      "cell_type": "markdown",
      "source": [
        "2. doc2vec 학습 및 테스트\n"
      ],
      "metadata": {
        "id": "aSVNJDATnCKk"
      }
    },
    {
      "cell_type": "code",
      "source": [
        "# 1시간 걸림\n",
        "\n",
        "from gensim.models import doc2vec\n",
        "model = doc2vec.Doc2Vec(vector_size=300, alpha=0.025, min_alpha=0.025, workers=8, window=8)\n",
        "\n",
        "# Vocabulary 빌드\n",
        "model.build_vocab(tagged_corpus_list)\n",
        "\n",
        "# Doc2Vec 학습\n",
        "model.train(tagged_corpus_list, total_examples=model.corpus_count, epochs=50)\n",
        "\n",
        "# 모델 저장\n",
        "model.save('dart.doc2vec')"
      ],
      "metadata": {
        "id": "0hAwS9wOnHrN"
      },
      "execution_count": null,
      "outputs": []
    },
    {
      "cell_type": "code",
      "source": [
        "print(model.docvecs.most_similar('동화약품'))"
      ],
      "metadata": {
        "id": "BLOjuScmnMOx"
      },
      "execution_count": null,
      "outputs": []
    }
  ]
}