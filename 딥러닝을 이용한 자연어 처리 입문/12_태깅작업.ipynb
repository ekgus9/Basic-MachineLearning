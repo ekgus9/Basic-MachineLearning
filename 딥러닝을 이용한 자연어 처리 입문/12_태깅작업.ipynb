{
  "nbformat": 4,
  "nbformat_minor": 0,
  "metadata": {
    "colab": {
      "name": "12_태깅작업.ipynb",
      "provenance": [],
      "authorship_tag": "ABX9TyOX6a8G2kGZmJx4oNMLuYay"
    },
    "kernelspec": {
      "name": "python3",
      "display_name": "Python 3"
    },
    "language_info": {
      "name": "python"
    }
  },
  "cells": [
    {
      "cell_type": "markdown",
      "source": [
        "# 12. 태깅 작업 Tagging Task\n",
        "\n",
        "\n",
        "\n",
        "### 1) 케라스를 이용한 태깅 작업 개요\n",
        "\n",
        "양방향 RNN\n",
        "\n",
        "1. 훈련 데이터 이해\n",
        "\n",
        "  태깅작업 : 지도학습\n",
        "\n",
        "2. 시퀀스 레이블링\n",
        "\n",
        "3. 양방향 LSTM\n",
        "\n",
        "  model.add(Bidirectional(LSTM(hidden_units, return_sequences=True)))\n",
        "\n",
        "4. RNN의 다-대-다 문제\n",
        "\n",
        "  return_sequences=True : 출력층에 모든 은닉 상태의 값 보냄\n",
        "\n",
        "  ![image.png](data:image/png;base64,iVBORw0KGgoAAAANSUhEUgAAAb4AAADoCAIAAAAfTxbgAAAgAElEQVR4nO2df1xUVf7/z/wAAfkx6ogjztrIjIqFikWILhRb5LAb7lpSYdkn+mStsLif3Fiwoq/1QNeA7cOnpaSP1kIftrCwtHVNwB+4QeKPFBQNFGbAQH4rMAPMwPy43z/ONjsNwzAz99xfcJ5/DXfufZ/3vDj3fd7nxz2XRxAEwGAwGIwr8Jl2AIPBYLgHDp0YDAbjMjh0YjAYjMswEDpTUlJ4VlRXV090ZnV1teU0hUIxkYUDBw5YX2X9VVxcHIW/hCNMJCPGGmuVeDxeSkqK3dMsdW/8QYu21hUvJyfHrk3rOjxRWdMHazVycnKYdscpGMs6VSoVQRBKpTI6OtruCQcOHIiOji4pKSEIgiAIhUJhU1+hheTk5E2bNqnVavBj7U9OToaXqFQqOn4Ju5lURow12dnZBEGUlJQUFBTYNMkW5HI5AMD624KCArtnHjhwICMjo6qqyqY2KhSKiooKXEshcXFxBQUFFjUyMjK40ZYQtJOcnAysAt9EPgAALEGQ+LGGwZptbaGkpAQAAGunXC5XKpV0/Abu4EBGjDVVVVUWZeBnS3tjTXJyMqxmlpoGa6BSqZTL5fAI/JOYoHpnZ2dbai/G+v6FcEUfhsc6KyoqYPWyAfbiH3jgAcuR4OBguVx+6tQpmzOLiooAAFFRUdXV1SqVKikpiUp/OYbzMmKsOXPmDAAgMTHR7rewmpWXl8O+TlFRkd06DACQyWQAAJtRo3379imVyuDgYMROc5NvvvkGABAVFWU5snbtWgDA+fPnGfPJORgLnXK5nMfjqVSqtLS08d+2t7cDAKRSqfVBhULR3NxsYwEAQBCEzSXWA0xU/gi244yMGGsyMjJ4PF5GRgbMfSYCRtWDBw+q1ery8vKnn37a7mnp6elKpbK8vNx6QFOlUuG4aUGtVsMBEAtBQUEAgB9++IEhj5yF4bHO7OxsuVwOkyPraR94t8M730Jzc7P1LIdKpSopKSkvL7cedYKXpKenEz92l6YzzsiIsQZ22K1H3OLi4uxO5iiVyn379h08eFAul1snTTaUlZXBpr2goMBiAaarGABAcHCwzWhvR0cHAGDhwoUMeeQsDHfYYXIO723LIEJiYiKsizCZh6jVapVK9dBDD1lfnpiYqFQqN23aBH5MBKwvwTgpI8YGOKwBAxyMfQRB7N271/qcpKQklUq1b9++devWTWqQIAilUllRUQEAgHkoRZ5zDjiaZL3MBo6WREREMOaTczAcOqFMNj1KSHZ2tvUsZ0pKilwuT09PtzktMzMTfjv+EgxwWkaMNbCBcdythk21SqWaqLcOAEhJSbEkmJZkH4ZgS+KvVqu5MaFMDYmJiXK53LLMRq1Ww9ESDoxp0D4xZduPtjuPCYGzbxDrqXPrGXaCIJRKpcUOnBtl9geyjYlkxFhjU3MmEsp60hzOtsPPDmbYIZZvLedYsF4CMT2Bt/CkAYFV8Ai8/QcGg8G4CH4QE4PBYFwGh04MBoNxGRw6MRgMxmVw6MRgMBiXwaETg8FgXAaHTgwGg3EZIdMOYNzHZDbfaOnsua0Z1I4YTWaS1oQCfoCfz9zZ/ksWzRcKpmmbiiVFi8FoalR39N3RaoZ0JjMpPQV8vr+vt3i2X0hwkIdQgMpDt6F1XSeulwjRDOnOXW7WDuuRW/bxnrF6pXyW/0zkllkOlhQttweGzl9R6fRjaM16e3lGrJDPEfmiNesq9IVOXC8RYjKbT9Vco0JMiI/3jNi1odOqQcKSosVgNJ04cxV53IR4e3nGrg1lNvek6R9pMpspipsAgBHd6LnLKvJpLIe40dJJ3U0OABjRjd5o6aTOPgvBkqKlUd1BUdwEAOj0Y43qDoqMOwlNoRPXS7T03NZQXUTvHcqLYBVYUrT03dFy2v6k0BQ6cb1Ey6B2ZAoUwSqwpGjRDOk4bX9SaAqduF6ihYbRiWk1AAKwpKghOZ/OuP1JoSl04nqJwWCmEtNlvg+DwWAQgkMnBoPBuAwOnRgMBuMyOHRiMBiMy+DQicFgMC6DQycGg8G4DA6dU5xPiwo2KiM+LSqAfx7+vNj6T4wbYEnRUn264rmND6dvew7+2XC1bqMywvIna2Fd6OSojuzk0vlvF8rkz76w7YuSQnhkw5PPAgBWha9h1C8OgyVFi1Yz+H197Y633lHdaGi4WgcAWBYaFhYeuTY6lmnXJoFdoZO7OrKTeyN+HhWzbk30QwAAqGd3562w8MhloWFazeC+/OznNj6MMyaXcCBpw9W6rNd/v1EZgSV1Hj//gJe2ZSwLDZPMl17/vh4e1GoGH477NfxccfTLjcoI5hycEHaFTsc6dnfe2pefffjzYkZ95B7z5i/w9fVru6kGAHx18G8vpWYAAE6W/R0A8PEXJ1/PyvuipBBGAYyT2JX0+vf18yQLvig/v+udfV+UFLaqm5h2k0vIlyxTNzcCAKpPV/x64zN+/gEAgO7OW1+V/o1p1+zD0l3ix+tYfbrih1ZVd9etwHlBTHvHPVbeF9nX292qbgqcFzRv/gLwYzcTAHBvxM8BAN4+02i3UyQ4kFS6cBEAwNvbh0n/uEboyvtOlH0F+50vbcuABz8p3LspaWvenkxmfbMLS0PneB2jYtYBAHDK6R7BipAzVSe6Otr/8Npum68unf9WGb9RFryYEce4y0SSdnfe+qRw7/ZXd8F4inGSn90VrLrRUPLxB79J2AyPVBz9MlgRMkccyKxjE8GuDruF8TpiyLD07uXdHe2PJybZHG9VNx396jNLI49xHruSHv68OCXpMdWNhr6ebqYc4yjLQsMAAHcvXwWbnO7OW+fOnLYk8pfOf1t9uoJJ/8bB0qzTRkcMSaoqy1/clmGTWraqm4o/yn85I4sprziNXUk3PPnshiefbbha9/bOV5bevRxWY4wzVJ+uUMZvhJ1LAEBN1am6785aJoh2v7F91zv7mPPODiwNnTY6YtxGqxks+fiDu5evshFTqxncm7frjd1/gePIc8SB+D53kokkhaNJG558dvacuQy5xlUqjn7Zqm6y7v3ARggA0HC1LvOVl74oP8+cd/ZhY+gcr6OF+ssXZs70o98ljpK+7blhrfaFlFfgXJA1JR9/oLrRkPTEI/BPtjXprMWBpGHhkcUf5Rd/lO/r6/fYU0m4KXKGT4sKyo8cfOyppIlGjWq/qwEAHP682NJ5Zwk0vRHzy4oLzpxm0XG8TLDxsfy5651946vm4+vuJ+knV3BST5JMHz0BlhQ1NOjJrJjsyjqfTkp+OinZ7lfLQsNYmLRjMJjpCUtn2DEYDIbN4NCJwWAwLoNDJycR8Cn/xwkF06tuYEnRQrWeNPy/HENT8bheosXf15vqIgL8ptdzhFhStFCtJw3/L8fQFG5wvURL4Bx/qosQz5pei8CwpGgRz6b2x1Jtf1JoCp24XqJlaXCQj/cM6ux7e3kuWTSfOvssBEuKlpDgIG8vT4qMe3t5hgQzvA0QTaET10u0CAX81SvlFEnq7eUZsULuIRRQYZy1YEnR4iEURKyQUxE9WSImTUviAQD9muFzl1UjulHklqGUc0S+yC2zHKPJfKOls/eOZlA7YjSZSVoTCvgBfj7iWX5LFs1nvF4yBZYULQajqVHd0XdHqxnSmcyk9BTw+f6+3uLZfiHBQWwQk77QCXC9ZILW1ta33nrr7Nmzr7zyyu7du/Py8jZs2MC0UxwG64mW9vb2V199tbq6+vXXX+eYngSbOHbsmFQqBQBIpdJjx45BD+Pi4np7e5l2jZNkZWV5eXlBDbGe5MF6oiUvLw/qGRMTwzk92bWgJzIy0hI64QcAwIMPPigWixn1i6ts3bpVJBIBABQKBdaTPFhPtCQkJEA9ZTIZ5/Rk1zPsQ0NDjY2NBQUFKpVKKpUmJCRIpdKLFy8y7RdXOX36tEgkys3NBQBgPcmD9UTL2bNnvby8iouLh4aGuKcn02nvT4iPj9+xY4f1EYPBEBISUlpaypRL3KWzs1MikdTW1lofNBgMoaGhWE83wHqipbe3VywWV1ZWWh/kkJ4sCp2FhYUhISE6nc7meE1NjUwm6+/vZ8Qr7hIfH79z587xx2tqaiQSCdbTVbCeaElISEhNTR1/nCt6siV09vb2SiSSmpoau9+mpqYmJSXR7BKnKSwsDAsLMxgMdr9NS0vDeroE1hMtpaWlMplMq9Xa/ZYTerIldE7UBEG0Wq1MJrPJ7TET0dbWJpFIGhoaJjpBp9PJZLIjR47Q6RV3wXqixW5X3RpO6MmK0Hno0CEHTRDkyJEjMplsfHceM56YmJjc3FzH51RWVk6qOQaC9USL4zwJwn49mQ+d/f39UqnUmYwyKSkpLS2NBpc4TX5+flRU1ERdS2u2bNkyaQ3GYD3R4rirbg3L9WQ+dCYlJTk5ruF4PBRDEERTU5NEImlpaXHmZNhoVVVVUe0Vd8F6omXSrro1LNeT4dB5/PhxqVTq/GxaSUmJg9H6aY7BYIiMjMzPz3f+kkOHDtld1YAhsJ4U4ExX3Ro268lk6ISTP64OBsfHx2dlZVHkEqfJzc2NjY119aqEhAQ8DGIXrCdaSktLFQqFq8OXrNWTydCZmpqakJDg6lVtbW1isdjBdOf0pLa2ViKRtLW1uXohHAaxWemNwXqixe3RNtbqyVjohAtf3XvOPz8/PzIyErlL3MVgMISFhRUWFrp3ueNFi9MQrCdyyCSP7NSTmdCp0+lCQkJKSkrctuDqINTUZufOnRs2bCBjAQ+DWIP1REtpaSnJIUsW6slM6NyxY0d8fDwZCw0NDWKx2I3+1NTjwoULbufvFlpaWvAwCATriRYkC2NYqCcDobO2thZJ1Nu5cyfJ+DsFgPk7ku0S4DAI27pFNIP1RA6qeR626Ul36ISjSPv370diKjQ0tLi4mLwp7pKWlpaYmIjKWlRU1DQfBsF6omWiPX3cg1V60h069+zZExMTg8oambmmKQB8WA3hHjNwGMTJFeBTD6wnWuBiGITPsLBKT1pDJxW/PC0tbfPmzQgNcgX3VsVOyp49e9xYzDgFwHoiJz4+HvmSTPboSWvojIyMzMvLQ2uTohrPflJTU7du3YrcLMl1OdwF64kWtF11C+zRk743Yr733nuffPJJVVWVUIj4rR4nTpx4/vnnGxoafH19AQDEyAAxNgIAMA//6wMxdJsw/uQlxnxfMRB6AgD4fmKe0BMAwPP91wd66BvTDBn11h+6Rgf0pjHrcyRes7z4HnY/lJWVJScn19fXw5+Mlrq6ukceeaS2ttbyuhj2g/VEC0k929vbV61adezYsfDwcOS+sURPmkJna2vr/fffX1VVFRISgsCc2WQa6DAPdpsHOswDnWZNz+VvT4g9jHO9ecTYCM9HxPP0AQDwZ/7rg+XIvw0M9QHjGADAPNhNmE0AALOmG5hNfN85/IB5fP95fP9Avn8g338ezz9QMCuI7z8P8F17X7GRMLWO9LTrbreO9LSO9NzS32nX9bWO9LTrbw8Z9WJPf1+hFwBg/AcLXfp+vdkAAGjX3TYSJsuHQA//AVVXhHx5mHTpAu85Uq85Uu85Mp9AqfccIQ/NS5X/+Mc/tra2fv7xfvY0QlhPtFCnp2SGSNfeP99TFBv2c0r1LC0tRWLNPWgKnY888sjDDz+8Y8cO9y439TSbOm8YO743tteb+zvMQ7f5oiDBrCCef6BAFMT3D9R5BDya+FzeRyURP3+QjJ9mTbd5sMes6TZreswa+KHbPNhjHujg+84RzFMIJEuF0lDB/KWC2T+zufaq5oe6wZaLg6qzd663jvR0jQ7IfAJhjZF5By6Atcdrjswn0KYKusqTyc95BgVseCGxXXcb1vh2/W14D0hmiEL97woLWLR61uKwgEWKmfMn+8G2jZBZ023u7zBreoixkTGBt5ffLMBQI4T15Kieef/3QUFpUdbe3M6xAbJ6ToBer1+1alVWVlZCQgIZV8lAR+gsKip69913L1y44HxX3azpNrbVG9uvmrquG299zxcFCRfcLZAsEUqX8/3m8P3njb/k4MGDb7zxRm1tLXyzM3LMmm5zf6ex43tjx/emzhtmTXfPz0IuisXfzZxxhRi5ONwu8wkMFylWBsgiZy2RzJgl9Z5DhRuOfyasoN8NNF8cVNUNtrTrboeLFNY1ddJGiC8K4gcE8kVB356/9NhjjzU1NcHXvbqKG41Qu+722f7r5/qb6gZbvhtoxnpawxU9YVf9+PHjYWFhdr6dTE/nC6quriajJ3koD52OpbSGGBkwNJ0Zaz5jVJ3jefoIFtwtlC4XBt0tmL/EpmWeiPXr14eFhWVlZaFw3D59Y5qy7try3toTPXW+QLgK+ITrDCv7+u7p6xUp1ngER3jIV/NFQVSV3te3fPnyQ4cORUZGOnP+kFF/7dbFDlWVqf1awJ2OxYMajW+AUaKQ3HV/4KI1EzVCFrZt2zY0NFRYWIjI/X9h3Qj19tyoMPefnje30sPk6+EdLpJHzguDtxPJ3McZ3NCztvPS+R9qLg40XR67fYswxI4JH/Je8PDclfK7IrGeAID169ffd999b775pjMnDxn1MKxbImlc4KqH566InbtS5hM46eUU6ekklIfOJ554IiQkxEE4M7bVG5rPGJrPmHpbPRav9VCs8Vz6AM/HnZbE+TDtKmf7b5R1XyrvqW0cuhUXuEoZuCpeEi729LecQIwMGFTnDM01BtU5nqe3h3y1h2KtcNF9TgZ9J5lUzH87Y68RGpgz/8RgU3lP7Yney74Cr9i5K5WBq2LEoRPdVENDQ8uWLSsoKIiPj0f4K4CNnuIVj3gEKnVEQKcKpvMei9dS3QhBSOrZL55/cgDr+W/c6F9a0zemOdF7hQ16OgO1oXPC3pDZNNZQOdZ42tB0hu8/z3NptIdirfBny12dihkPwnl8I2E63Hnuq67zZd21Uu858fPClYGrImcvmXSo29TTbGg6Y1CfN96sEy642zN0nec9se41BtZMWi9daoSuan4o67l0svdK9Z2GcJHiqQVRCUFrrBsDyD/+8Y9t27YhmXp2Uk96GiGA9UStJ9rEhX49XYXC0DkwMLBs2TKb3pCp6/po7ZHRy18L5y/1DF3nsXit4z6OG0RHR//mN79JS0tz20LdYMvHbZV/a/tnWMCipxb8PC7wXvcGhgjjmPFm7WjdEcP1Ko9F4TPu3eCxeK17zcOE9ZJ0I6Q3G6pvf/9xW+U/ur6LEYe+sDA2bt4q69vv2WefFYlE+fn5brgNcVtPihohgPVErSdwsavuPDTo6R4Uhs7nn39eJBLl5eUB8K8aqT9TbB7smXHfhhmr1lPXd2hsbFyzZk1tba1MJnPpQtiMv9P8Vbv+9gsLY5MWPuTMgIszEGMjY9dOjH73hXmwx2v1k56rfs33dS0Wr1+//sEHH7RuD5A3QkNG/cGOM//bWt6uv/27Rb9KWviQZIYIANDX1webwKioKJcMItQTYSMEwXqi1ZNkV90ZkOtJFoqW2sN3/2q1WrNhVHfmk/53Hh384JnRK2WEyUhRida4+qS8zjSW1/x3WcVL4afTStqrDGaqnDS0X9MefP3O7geGv841afucvOone8aYjKNXjw/u+4/+3LiRUx+Y+m8hd/JCf9Pmi3mio8+8XP9Rp76fcH2/Rer0NI8O6y99BX++7pu/Oq+hNVhPC0j0hM+q07aRO3k9kUBJ6NRqtVKp9PSpk/pLXw3k/Vrz1xcNrbTuj+/801oGs7Hw5knF8eSY6syqvu9p8I0gCJO2b/jr3Du7HxguyzPrNI5PbmlpkUgkDQ0NNDdCnfr+l+s/Eh19Ju1qUf/YkJPPI9Omp3uNEIH1nKggd/UkCCI+Pn7Pnj0UOTYR7umJEEpCZ2pq6v9Lfnrg/UTNX18cU1+goohJuXDhwqS7gtYOqMMqt8dUZ1b21tPmmAWTtm/4H2/3v/Po6NXjE51jMBhiYmLez/8LU41Qp74/9fI+WcVLH1z5+6SZBf16utQIEVjPyXBVT4Ig9u/fz+A2mi7piRb0ofP0qZO71y+9/acY/aWvkBt3ibS0tIleG2cwG3c2lIi//o/Cmydp9srWkx+uDLyfqD3wR/Po8Phvc3Nzn4+PZrYRIgii5s71sMrt9x7YuiLiXrs3CbN6OtMIQbCezuC8nizZvH1SPakAcegcGbx99MUVLbmPmwa70Fp2A51OJ5PJxu/4rTXo4s68FVOd2TbizsgOekzG4X+8PfDuY8ben2zH1/j9tbd+Ke/d9QDjjRBBEAazMfXyPp+/rv99zus2X7FET8eNEIH1dJFJ9SQIIiYmJjc3l06vJsKBnhSBMnSaBrtuvP7zI//1C3rmgpyhsrJSKpVab17bNtIXcuJ3W2rfp24uyD1G647258ZZhpnGhgfLk++98af1bGiELORdOsgv/OXRy99YjrBLzwkaIQLr6R4T60mw740XhD09qQNZ6DSPDnfk/nrnLxVs27M9KSkpKSmJIAidaYwgiLgzb2Vd/5xpp+wzcnq/5q8vaj/fob/4ZfMb0V+mRLGnEbLwzAcZXoXrO4dvs1ZPm0aIIAjTYBfW023G60mwpqs+HoueVBeEbF2n9uDrX3/9teBXrzO4l4ld4Mr8kpKSZNNBidesLn1//UPvotr8CiGEXqv560umrusAAMPMwIJ/qrbsq2ThDo9Go/GuzF/KViy9Mw+wVk/dPz80qs/zfOd4hq7zkK/uzn/6g5PXsJ5uY62n57JfAAB+8YtfPProo2QePKEIi57fPv0epQXxkVgxdV0fvHLqs9tStsVNAAB80uD555+f7eF7uu9q49Ct/1EdYdopO/C8/Hx++Qp8PO68qjv0P/ew8D4HAAiFwkOJb58dU3ua+ezUk9Brx66dNLR8N1ZfzvPy0xzO+ue1m+zX08PE44SeAID33ntPr9e//PLLTLtmB4ue1TcuUVoQmtDZfez9d6q7//J+ARJryElISAgLC+trugUAyAv9zzTFBqY9so/HonDfDW8QAPxjeBELGyELEWH3rSDm32y5CVipp3UjBEaHNPWVh4fkWE+3sdaT7ydubW196623CgsLqXtwiCRQz5R3MyktZcIOO2Ec01cVGtTnTJ034I7WpIrx9BHMX+IhC/eKTkK+74AztLe3L8ne+IeELbsefJH+0p1n6IvMNo1x7vo0sVjMtC+OqOi49MSHf9wS8Zt34n7PiANm/dDQp9tNXY1gdIT8oBOPxwMzfASBi3035fJnUrKRpWMY13NSTF3Xtf+X6p9y4JkXU++77z4WdtWtqei49NvnXtifkRsbG0tREfZDp6mneehAuqmvFXl5fFGQ71M5wgV3ozLY2P9N451TPbrmUdMweWszBDPF3sFLZkWFzl5H3poF80Dn0Gfp5l61eWwEAB5pewTf04c/N9j3qRy+yM19tu1yvvvgldtHdUYNIMwIzPH4Xnzf0Dmxa+Y/i8CaFYbGSu2BDGA2ojULAAB8wcwNb84IexSVPU7UT67kSTe1tVf6vu7WNesMA+SteXuI5notWj5HGRyw2o3L7YROwjim2ZtIRdyE8EVBAamfk9d01DRcfvOdjuEGg1mPxDELHnyvQB9F3F2v+AgRbCozeq50+OscQJjIm7KFJ5j5q/QZq58gb0kz1vuF6rWhsT7ypmwhCG+haOPiP82agWbDF7N+aODthyiJmxC+QPTHMvK5J1fqJyfypFHT8Kn2vTc1Fw3m0cnPdgUhz3OBb+gjC//LW2i7o51j7Ix16qsKqYubAADzQIe+qoi8nfKb77QNXUFeLwEABrO+a7jxWGsueVPmgU6q4iYAgDANf51jHugkb4mquAkA4PF0psHPm9JR2Rv6dDuFcRMAYDYNlfyRvBlO1E/COEZR3AQAmAc6hj5LJ5/GAgBOte9tHbyAPG4CAIzEWNvwlWM3/+zqhXZCp0F9DoVLjjC0fkfSQmP/Nx3DDWaKQhIAJsLYp2+tv11G0s7QZ+lUxU0IYRr6jGxUOt99kKq4+SMG88jp9v9FYsrU1YjEjqMieppIWuBK/eREnnRTW3tTc9FIGJC4NB6z2dg70nS9/58uXWUndJo6byByaULIF9F45xQV7bk1Y6aRGwNVJI2Ye9VInKG0iCu3jyLxxAEEQdwYqEZjaxRBFkN1EVypn5zIk670fU1FvmnNmFn//Z2TLl1iJ3QiSbAdQ76IHl0zEk8c06cj2yCbqReTfBE6owaJJ44ZM6ORAtVDHJQWwZX6yYk8qZsWMW/rbrp0Ppp1nfSDZL5yUsZM5O928vPp1BeBZD590kJoKYUlcKV+ciJPQjKfPnkpJtcSCK6GTgwGg2EQHDoxGAzGZXDoxGAwGJfBoRODwWBcBodODAaDcRkcOjEYDMZlcOjEYDAYl8GhE4PBYFwGh04MBoNxGRw6MRgMxmVw6MRgMBiXwaETg8FgXAaHTgwGg3EZHDoxGAzGZXDoxGAwGJfBoRODwWBcBodODAaDcRkcOjEYDMZlcOjEYDAYl8GhE4PBYFzGTujkCT2pLpXn6UN1EayB8tc30lIEq6D89/J4NLyMD8Nt7IROwTwF1aUK5i8haWGGYCYSTxzjwfciaYFPfSNBQxGsgo7fO4NsEVypnzhPchs7oVMYvJrqUoULV5G0IPYORuLJJKV43UXSAn8u5X4iKILHpXEbXiDlTTtfTFZSrtRPTuRJ3h4BSDxxjJfA16Xz7dwz3g++wBcFIfLHXpH+87yjk0gaWTIrinyT65gZgply0VqSRnyfygE8ARJ/7MMT+D6VQ9KGF4+eFAlN9uH3zH8DPrWS+j35NkkbXKmf3MiTZsiQeOKY2d6utUP2xjo9fXyfyqEoevL95/k+sYfn5UfSTujsdYE+CgFPiMSr8Qh4woAZkpXiR0na4Yvmz/xVOlXRkyeY+at0vmg+STPLZj8MCMoHEIP9w5HY4c+cM3PDm1RFT0SScqV+ciJPCp2jFPKoHVgQ8r2WiqJdukTw5ptvjj/K97QsmaEAABe/SURBVJ87474NPB4fADOh0wCTgaRnPE8fofQezxW/9H1it0BMtpcBucv/3lvD34+ZdSaCrHs2zBDMnOUlXb8o01OAIFESSu+ZsWq98YfLYHSIMBkAID8FQfA9fQSSpf5b/uqhQJA1LPQPq+8rMxKj5E1NhIfA+6klf0ZlTShZMuP+jca2emJUyzMZyRvk8Xg8r5kCSUjAlo+QSAo4Uj95Ag/hwjCD6iyh1yLxzRqYJ5G/32d7/axzuFFr7CUIMxLHbODzBGJv2S+kyS5dxSNQpBtXr15VKBReXtT2UOxyue9o8+CZPl3rmGmEvDUPvpfY6y65aO1K8aN8SjvaE1NXVxcSEkKzmP2jHZ83pRvMI0jqgw0eAu8nFHvmkB6YcxtcPx1DjI3oq4oMrd+ZOm8QY2T95Hn6COYvES5c5R2dRL5/CdEZNcdu/rl3pGnMrEdi0IKQ7zXH62fxi17zEYpcuhBN6Pzwww+zs7MLCgpiY2PJW0PO4cOHt2/fvmfPnsTERKZ9mZwPP/xw9+7deXl5GzZsoLnok23vqwbPjplHUDXvHnyfYP/wdXdtR2LNbdhcP41G49tvv7179+7+/n5GgrurMFg/G+6cauw/fVt3U2fSkLfmJfCd7X3XUlF06BylO9cTKDhy5Ai0lpiY2Nvbi8QmEtra2uLj46FvlZWVTLvjFMeOHYMOx8XFsUpMSEFBgUgkamhoYNoRF2Bt/aypqQkJCQEAeHl5Me2Ls7C5fvb29lrSoyNHjlBaFppVKWKxGH5YuXKlSORa3kspEokEVk0AgFQqZdYZJ7H4+eCDD1qEZQONjY1r1qxJTk4eGBhg1X95Uiwy3nPPPazyPCQkBP67JRIJ0744C2vrJwBAJBLdc8898DPVvqGZAZRIJImJiV5eXiqVSiikalbRDYRC4dWrV7du3drV1cWV2imVShMSEqRS6cWLF5n25SfIZDKFQnH27FnAqVsdWNXPa9eusap+enl5NTc35+bmXr9+nWlfnIW19RMAIBQKr127lpSUpNfrKa+iCDPY/v5+qVRaVVWF0CZJSkpKQkJCdDod0464jMFgCAkJKS0tZdqRnxAZGZmZmZmQkMC0I+4A6+exY8eYduTf7NixIzExkWkv3IGd9fPYsWNSqbS/v5+GslCGToIgSktLQ0JCDAYDWrPu0d/fL5FIuDLEOZ6amhra6oEzFBQUREZGMu0FKUpLS2UyGUua0vr6erFY3NnZybQjblJTUyOTydhTP3U6nUwmO3ToED3FoZlht2b9+vWrV6/OzMxEa9YNXnzxRaPRWFhYyLQj7rN9+/aBgQE2/ISurq7ly5dXVlaGhoYy7Qsp1q9fHxoaumfPHqYdAdHR0c8888zWrVuZdsR9tm3bptfr9+/fz7QjAADw6quvNjY2Hjp0iKbykAfjlpYWsVjc0tKC3LJLVFVVicVi9jSJ7qHVamUyGRsS582bN+/YsYNpLxDQ0tIiEonq6+uZdWP//v1cT+EJNtXP+vp6kUjU1tZGW4noQydBELm5uXFxcVRYdhI4EFNcXMygD6g4duyYTCbTarUM+nD8+HH29HPJk5uby2zY6u3tFYvFtbW1DPqAiiNHjigUCsbrRmRkZH5+Pp0lUhI6DQZDaGhoSUkJFcadISsrKzY2lqnSkZOUlJSWlsZU6TqdLiQkhOpVcnRiMBjCwsIKCgqYcoDZfyhyNm/ezOzPgaPwNE+xUBI6CYKoqamRSCSM9JcbGhpEIhHjIwYIgfNdNTU1jJS+c+dOjk6pO6CmpoapKZrKykqpVMpsNwItvb29EomEqSS6s7OTkRSeqtBJEMTWrVu3bt1Knf2JiImJ2bNnD/3lUkppaWloaCj9SxeamprEYjGdQ0i0kZqaSv/CIDiURNssMG0UFxeHhYUxsrQmISGBkZyXwtDJSK5UWFjI1L+QauLj43fu3ElzobGxsXl5eTQXSg+MLPPMysrasGEDnSXSRnx8fG5uLs2FHjlyhKmZAApDJ0EQJSUldOZKsOPAVMeWatra2sRiMZ0PjxcXF4eHh0/JdghC8zJPmMJPpaEka+DSmqamJtpKhPP7TD3jQG3oJAgiLi6Otu7z5s2bU1NT6SmLEfLz82kbDodJ2YULF2goi0Hi4+NpW3QVFxdHf15GJ/n5+TExMbQVl5aWxuCzWJSHTriMjoaW9vjx46x69oYiYmJi6FmEsXXr1qndDkFoW+ZZUlIyVYeSLBgMhsjIyP3799NQVm1tLbPPYlEeOgmC2LNnT3x8PKVF6HQ6hUIx9Ubfx9PQ0EBDp49tz4BSCg3LPJldI0EnsH5SPa9IZ4yeCDpCJ1zmSelOAZmZmVN19H08e/bsofSJA7jskcFluTRDwzLP1NRURlabMAINq9ny8/OjoqIoLWJS6AidBMVZDNxGYUouoLELvNULCwspss/4w2D0Q+kyz2mVwhPUb6pE/3ypXWgKnQSVY2f0P4PFOBcuXBCLxVTs0Q3r5VSdBXYARcs8DQZDeHj41Hgm2Hko3VQpISGB/lV646EvdMIZW+TDPYw8g8UG0tLSqOgWbdiwYeo9UOAMFC3zzMvLm0rPBDtPamrqli1bkJs9cuQIS3bgpS90EhRMMsIUaWpso+AqVMyMwXo5DdshCPJlnrB+0rnUkT1QsamSVquVSqVs2KiJoDl0EqiXtiUkJEyNndDcAz4NjapbBOs6qzb5px+0yzxZ0rVkCuSbKr388stJSUmorJGE7tCJ8IEK+AwWG1J3BtmyZQuqqdsdO3ZQ0cPiFgiXebKna8kgCDdVunDhgkQiYc87OOkOnQRBZGVlkV/mCVOk48ePI3GJu8AROvJdmPr6elbVSwZBssyTPXsAMwt8Npr8M2ksnG1jIHQi2TwmLS1t8+bNqFziNIcOHSLfLYqMjKRutRO3QLLMc8eOHbh+QpBsqsTC2TYGQidBEFVVVWS2LKRuaQ5HIbnv1v79++l89Jj9kFzmCRca4/ppIT4+nsyyDXbOtjETOgmC2LJly8svv+zGhTB1xymSNXC3V/e6RfBlD4wvMGYbZJZ5Mv6MINuAmyq5XcfYuWCOsdAJn+p1427Py8vDKdJ43N6odPPmzZmZmVS4xGncXuY5Nd7Xhhy3N1U6dOgQI5t8TwpjoZNwaztIks3X1CYmJiYrK8ulSyorK9nwTi524sYyT5jCM/66TRYCN+xwdQQZLuRk57YpTIZOwvVNyOPj412NDtMHV9sVOF/H1E6xnMDVZZ5T5pXLVODGpkps3jaF4dDp0qtvSktLp/OzLs6Qm5vr/I4yWVlZDO4UywlcWuZZWVnJ+GufWc7OnTud3+GM0gfhycNw6CScflsLHHua5s+6TArsFjmzGUpTU5NEImFwp1iu4OQyz6n3ymUqcH5TJbhEjNKdKknCfOh0cpknm1N3VlFbWysSiSZN5OPi4hh8ETmHcHKZZ1ZW1tR75TIVOLkFX25uLtX7o5OE+dBJOLHMk8G3unORnTt3Oq52JSUl03O7KfeYdJnnFH7lMhWkpqY6fhS9paVFIpGwfOdDVoROgiC2bNky0aJuGjaZn2LAzuNET63BoY/pud2U2zhe5jmFX7lMBZM+pRofH89+PdkSOuEyT7v3Mw2vNpp6wETJ7gMtqamp7j2MMJ1xsMyzpKRkar9ymQoc7N1TWlrKCT3ZEjoJgiguLh7fi4QLblieurMTu4kSnLXEs8BuYHeZJ0UbeE8H7G6q1N/fL5PJOPEKaxaFTsLem3JjY2On9qurqQMuJ7ae84XPsE6H94ZSxPhlntPklctUYHdTpdTUVFSb1FENu0JnQ0ODRCKxDLe78bgRxpojR45Yz7/l5eVNn/eGUoHNMs/p9r425NhsqlRTU6NQKLjSJWJX6CSs3kTq9kPuGGs2b94M06K2tjapVIqHPkhiWeY53V65TBGWTZXgbDCHFsbyCIIAbEKv169atSo3N/eLL74Qi8W5ublMe8Rt+vr6li1bdujQoXfffXf16tVpaWlMe8RtjEbj/fff/9vf/lav15eXlx87doxpj7hNa2vr/fffX1VVdfjw4YsXL5aWljLtkbOwLnQCAE6fPr1p0yZPT89r1675+voy7Q7n+dvf/vbaa6/5+/vX1dUJhUKm3eE8Z8+effTRRwEAFy9elMlkTLvDed57771PPvmktbX1woULUqmUaXechY2hEwCwdOnSFStWcKgJYgST2XyjpbPntmZQO2I0mUlaEwr4AX4+c2f7L1k0XyjgI/GQc2BJ0WIwmhrVHX13tJohnclMSk8Bn+/v6y2e7RcSHOQhFKDy0G1oDZ24XiJEM6Q7d7lZO6xHbtnHe8bqlfJZ/jORW2Y5WFK03B4YOn9FpdOPoTXr7eUZsUI+R8Rwf5S+0InrJUJMZvOpmmtUiAnx8Z4RuzZ0WjVIWFK0GIymE2euIo+bEG8vz9i1oczmnjT9I01mM0VxEwAwohs9d1lFPo3lEDdaOqm7yQEAI7rRGy2d1NlnIVhStDSqOyiKmwAAnX6sUd1BkXEnoSl04nqJlp7bGqqL6L1DeRGsAkuKlr47Wk7bnxSaQieul2gZ1I5MgSJYBZYULZohHaftTwpNoRPXS7TQMDoxrQZAAJYUNSTn0xm3Pyk0hU5cLzEYzFRiusz3YTAYDEJw6MRgMBiXwaETg8FgXAaHTgwGg3EZHDoxGAzGZXDoxGAwGJfBoRODwWBcBofOKc6nRQUblRGfFhUAAFrVTb9LenxffjbTTnEbLClCtJrBrNd/v1EZcen8twCA6tMVz218uPp0BdN+TQ7rNr6tPl2xPz97XpA0J/9jrWbwf7Lf6LrV/n7Rl0z7xUla1U3iufO2v7orb0/m2gdiiz/Kf/svhX7+AUz7xWGwpGipqTr57Avb5kkWHP3qs5GR4e/raz/+4iTTTjkFu0KnVjP4Q6sq573/S0l67NL5b49+9dmzL2yTBS9m2i+uIgteLAterNUMAgC+PFD0ckaW5SY//Hnx8a8PdXW2h4VHWh/HOGYiSbs7b31SuPfyxbNDQ1osqfOse/RxAED46qh3s/+ffPGyl7Zl2Jzw3396fXhY+8buvzDhnSPY1WH38w94Oil53vwF8iXLDhTvs4mb1acrfpf0OIPucRQ//wD5kmXBihDLzdxwte5M1Ym3/1K4t+hQc+O1k2V/Z9ZDzjFe0ju3e7s6298r/HJv0aGuW+01VdxInVjC4pDQoSHtqvA1Nscvnf/28sWzjLg0KewKnRbC7ov08w+wxE2tZnBffnZfT3dXZzuzjnGR6tMVw1qturnRcmRZaFhO/sd+/gHz5i9QhNzjM3Ma7RKNBMeSzvTz85mJ36nlAiUffyCZL227qbY+qNUMHv3qs8eeSmLKK8ewMXS2qpvqLp5tbrxmOeLnH/DStowNTz7LoFccpfp0xff1tS+kvPLtP4/DFsj62+7OWwCANdEPM+QdJ3EgqVYzePjzYsWSu6Ni1jHoIbfYl5999/JVP4955ETZV1rNIJx/AwDsfy8nYdN/MuubA1gXOlvVTcUf5b/y2p+GhrSXzn97+PNieHtjXKW789ZGZcQPraqXtmUsDgmVzJemPv84HFqCaDWD+97Lfik1A4/KOYljSRuu1iU98cihz4oAAHAwFOMYOJ9+9/JVUTHrVoWv6e5oz3r99+sffxoAcOn8t5Ig6bLQMHjmp0UFbIsDNL2b6MuKC86c9rukxyULpHCI/b//9Pq3/zy+/dVd1g34RmXEF+XnJ7r88XX3I/CVCzippwPg6gXHs3DTR0+AQlJId+etd/702troWLudpOkjKUk9s17/fd13PxnlHH/jMysmu2bYrRch/eG13X94bTeDzkxtLHGzu/NWTdUpPBhCkoardcf+XvpiarrPTF+cxZPHMqV++PPi+ssXWDjDzq7Q6ZiGq3UAgFZ1E16uRJLq0xV13521tOrPvrCNWX+mANKFi3z9/JOeeAQAoIzf+HDcr5n2aCqg1QzWX75Q993Zhqt1ls47S2BXh90B1gl8WHik3VYI94bQMn30BFhS1NCgJ+6wOwULM3YMBjNtYd0MOwaDwbAfHDo5iYBP+T9OKJhedQNLihaq9aTh/+UYmorH9RIt/r7eVBcR4OdDdRGsAkuKFqr1pOH/5Riawg2ul2gJnONPdRHiWX5UF8EqsKRoEc+m9sdSbX9SaAqduF6iZWlwkI/3DOrse3t5Llk0nzr7LARLipaQ4CBvL0+KjHt7eYYEB1Fk3EloCp24XqJFKOCvXimnSFJvL8+IFXIPoYAK46wFS4oWD6EgYoWciujJEjFpWtcJAOjXDJ+7rBrRjSK3DKWcI5p2e9UYTeYbLZ29dzSD2hGjyUzSmlDAD/DzEc/yW7JoPuP1kimwpGgxGE2N6o6+O1rNkM5kJqWngM/39/UWz/YLCQ5ig5j0hU6A6yUGg5kq0Bo6MRgMZmowjRb0YDAYDCpw6MRgMBiXwaETg8FgXAaHTgwGg3EZHDoxGAzGZXDoxGAwGJfBoRODwWBcBodODAaDcRkcOjEYDMZlcOic+vB4vLi4OKa9wGBcQKFQKBQKAEBOTg6Px6uurmbaI1tYEToVCgXPCjBOr+rqah6Pl5OTw6ib0wWFQjGtQm1KSop19VOr1QCAuLg4m4OwElqwSATrquVCm4PWBUGb1tUYnmatNnTG2hSGnbAidAIA5HI58SNM+zLVIAiirKyMaS9YikKhKCgosNQ9pVJp/a3leHBwMDySnZ1NEERVVVV5ebl1EJTL5QcPHrT8uW/fPpuC1Gp1eXm5XC4f/1V5efmBAwdQ/ioM9bAldGLcA6ZCBw4csKQzlhzKksvweLyUlBT42ZJMWY7AEywpkkKhUKlU5eXlMOtXq9U21qYSOTk5KpVKpVJZjpSVlVmipAOioqIAAK2trZYj69ats8TE6upqlUplE4X//Oc/AwB27dqlUqlsup9yuXzTpk0kfgf3sK5y4MdqzOPxYCedE+DQORXIzMyEH3JycgoKCmA4sEmLAAApKSnl5eUwaSooKICZDo/HUyqVMLfKyclpbm6Wy+XwSFRU1Lp16+DnzMzMqZcZ7du3T6lUOhMrbYBSPPDAA5YjDzzwgCUmfvrpp+PNFhQUJCcnJyYmwhOsvyoqKgIATJ/xKJsqp1ard+3aRRAErLfWjTqbYUvoVKlUnGt22INCoSAIIj093RILgoOD5XL5qVOnrE+Ddy/4MWn65ptvYAiwRN709PTxxsvLy+El8LafSqhUKhjgLMk1TOEtJ9gkRwCAjIwMHo+3adMmlUplLUhERIRcLocxsaCgICkpybogaPPpp58GACQnJxcUFNh4kp2dnZGRMR2GOMdXueDgYDigBCstV0RgS+i0jHU2NzcDABYuXDj+HLsHMQAAy41q6WvzeDyVSgXFhMAaWVBQYIkFarX6hx9+AAAEBU34mpddu3YBAKZwkwZlCQ4Ohsm4zbfjx9/hWCcAYHxytG7dOksub9PMwLwyOjqax+PBuGmTwqenp8vl8pSUFJlMhuqnsRO7Vc7SRFkPnrActoROZ5BKpUy7wHbkcnlycrLlhrcOnTC9gnc+pKysDLZGHR0dExlMTEwkCKKkpIRDPSnnSU5Ohjm1q5SUlIyf24FJZWZmps0oJ5wgKikpsZ6MgsHUmqKiovLy8vGTSFOM8VUO1iuVSkUQhFwuZ8wzF2Fp6ISNNkx54Ae5XA67mRgHwMQHZlIHDhywubeVSmVGRgb8nJOTU11dHRERAX7UWa1Ww+E2hUJhiblwdgj+O6ZeQpSWlgZ+/I0ukZiYOH5uJyoqSi6Xq1Qqm946nHmHUkMeeuih8vJym55pVFRUcnIyh9Iu97Bb5QAAwcHBcHqNSedcgS2h0zLWaVnOad33LC8vt06gMBOxd+9epVIpl8t5PN4333xj020sKyuDX8EOe1RUVHBwsEXndevWwbHOpKQk+O+orq5OSkqC5yuVSrsjoZwG9tObm5vhb4yOjrY5we4AKATe/DZh96WXXgLjeusZGRlyudx61mjt2rXgxzl3a/bu3Uvq93CB8VUONmA8Hg9mSEw76Cz43URTHx6Pl5ycPB1uSwyGNtiSdWIoAqbw1stoMBgMeXDonMrExcVFR0dblhNiMBhU4A47BoPBuMz/ByGKJwCZY0bvAAAAAElFTkSuQmCC)"
      ],
      "metadata": {
        "id": "zB9GEAeS9wlY"
      }
    },
    {
      "cell_type": "markdown",
      "source": [
        "### 2) 양방향 LSTM을 이용한 품사태깅\n",
        "\n",
        "1. 품사태깅 데이터 이해와 전처리\n",
        "\n"
      ],
      "metadata": {
        "id": "z-5s87TW1dWI"
      }
    },
    {
      "cell_type": "code",
      "source": [
        "import nltk\n",
        "import numpy as np\n",
        "import matplotlib.pyplot as plt\n",
        "from tensorflow.keras.preprocessing.text import Tokenizer\n",
        "from tensorflow.keras.preprocessing.sequence import pad_sequences\n",
        "from tensorflow.keras.utils import to_categorical\n",
        "from sklearn.model_selection import train_test_split"
      ],
      "metadata": {
        "id": "3pliKwRi12At"
      },
      "execution_count": 1,
      "outputs": []
    },
    {
      "cell_type": "code",
      "source": [
        "import nltk\n",
        "nltk.download('treebank')"
      ],
      "metadata": {
        "colab": {
          "base_uri": "https://localhost:8080/"
        },
        "id": "EX8evS_PQ7xg",
        "outputId": "47e32e5d-0179-421a-90fc-b143be3b8604"
      },
      "execution_count": 3,
      "outputs": [
        {
          "output_type": "stream",
          "name": "stdout",
          "text": [
            "[nltk_data] Downloading package treebank to /root/nltk_data...\n",
            "[nltk_data]   Unzipping corpora/treebank.zip.\n"
          ]
        },
        {
          "output_type": "execute_result",
          "data": {
            "text/plain": [
              "True"
            ]
          },
          "metadata": {},
          "execution_count": 3
        }
      ]
    },
    {
      "cell_type": "code",
      "source": [
        "tagged_sentences = nltk.corpus.treebank.tagged_sents() # 품사 태깅된 데이터"
      ],
      "metadata": {
        "id": "S6at9z3s2BMs"
      },
      "execution_count": 4,
      "outputs": []
    },
    {
      "cell_type": "code",
      "source": [
        "sentences, pos_tags = [], [] \n",
        "for tagged_sentence in tagged_sentences:\n",
        "    sentence, tag_info = zip(*tagged_sentence)\n",
        "    sentences.append(list(sentence)) # 각 샘플에서 단어 정보만 저장\n",
        "    pos_tags.append(list(tag_info)) # 각 샘플에서 품사 태깅 정보만 저장"
      ],
      "metadata": {
        "id": "jrjYLIg83drI"
      },
      "execution_count": 5,
      "outputs": []
    },
    {
      "cell_type": "code",
      "source": [
        "def tokenize(samples):\n",
        "  tokenizer = Tokenizer()\n",
        "  tokenizer.fit_on_texts(samples)\n",
        "  return tokenizer\n",
        "\n",
        "src_tokenizer = tokenize(sentences)\n",
        "tar_tokenizer = tokenize(pos_tags)\n",
        "\n",
        "vocab_size = len(src_tokenizer.word_index) + 1\n",
        "tag_size = len(tar_tokenizer.word_index) + 1"
      ],
      "metadata": {
        "id": "lCjiLfjeP14e"
      },
      "execution_count": 6,
      "outputs": []
    },
    {
      "cell_type": "code",
      "source": [
        "X_train = src_tokenizer.texts_to_sequences(sentences)\n",
        "y_train = tar_tokenizer.texts_to_sequences(pos_tags)"
      ],
      "metadata": {
        "id": "ESk_VA5QRKbl"
      },
      "execution_count": 7,
      "outputs": []
    },
    {
      "cell_type": "code",
      "source": [
        "print('샘플의 최대 길이 : %d' % max(len(l) for l in sentences))\n",
        "print('샘플의 평균 길이 : %f' % (sum(map(len, sentences))/len(sentences)))\n",
        "plt.hist([len(s) for s in sentences], bins=50)\n",
        "plt.show()"
      ],
      "metadata": {
        "colab": {
          "base_uri": "https://localhost:8080/",
          "height": 306
        },
        "id": "9wRtmvIGSoRq",
        "outputId": "2b285d23-ac6d-4b4d-d3be-1e5e72300e5f"
      },
      "execution_count": 14,
      "outputs": [
        {
          "output_type": "stream",
          "name": "stdout",
          "text": [
            "샘플의 최대 길이 : 271\n",
            "샘플의 평균 길이 : 25.722024\n"
          ]
        },
        {
          "output_type": "display_data",
          "data": {
            "image/png": "[encoded data removed]",
            "text/plain": [
              "<Figure size 432x288 with 1 Axes>"
            ]
          },
          "metadata": {
            "needs_background": "light"
          }
        }
      ]
    },
    {
      "cell_type": "code",
      "source": [
        "max_len = 150\n",
        "X_train = pad_sequences(X_train, padding='post', maxlen=max_len)\n",
        "y_train = pad_sequences(y_train, padding='post', maxlen=max_len)"
      ],
      "metadata": {
        "id": "nRP-kt68SfXo"
      },
      "execution_count": 12,
      "outputs": []
    },
    {
      "cell_type": "markdown",
      "source": [
        "2. 양방향 LSTM으로 POS Tagger 만들기"
      ],
      "metadata": {
        "id": "6GFVdiZPQBC-"
      }
    },
    {
      "cell_type": "code",
      "source": [
        "X_train, X_test, y_train, y_test = train_test_split(X_train, y_train, test_size=.2, random_state=777)"
      ],
      "metadata": {
        "id": "a6PujOtrP-Gr"
      },
      "execution_count": 15,
      "outputs": []
    },
    {
      "cell_type": "code",
      "source": [
        "from tensorflow.keras.models import Sequential\n",
        "from tensorflow.keras.layers import Dense, LSTM, InputLayer, Bidirectional, TimeDistributed, Embedding\n",
        "from tensorflow.keras.optimizers import Adam\n",
        "\n",
        "embedding_dim = 128\n",
        "hidden_units = 128\n",
        "\n",
        "model = Sequential()\n",
        "model.add(Embedding(vocab_size, embedding_dim, mask_zero=True))\n",
        "model.add(Bidirectional(LSTM(hidden_units, return_sequences=True)))\n",
        "model.add(TimeDistributed(Dense(tag_size, activation=('softmax'))))\n",
        "\n",
        "model.compile(loss='sparse_categorical_crossentropy', optimizer=Adam(0.001), metrics=['accuracy'])\n",
        "model.fit(X_train, y_train, batch_size=128, epochs=7, validation_data=(X_test, y_test))"
      ],
      "metadata": {
        "colab": {
          "base_uri": "https://localhost:8080/"
        },
        "id": "s75dbhHrQKmX",
        "outputId": "1156d6a0-6f83-4e09-918f-919b39c57c4d"
      },
      "execution_count": 16,
      "outputs": [
        {
          "output_type": "stream",
          "name": "stdout",
          "text": [
            "Epoch 1/7\n",
            "20/20 [==============================] - 47s 2s/step - loss: 0.6159 - accuracy: 0.1480 - val_loss: 0.5214 - val_accuracy: 0.1406\n",
            "Epoch 2/7\n",
            "20/20 [==============================] - 33s 2s/step - loss: 0.5167 - accuracy: 0.1624 - val_loss: 0.4884 - val_accuracy: 0.1860\n",
            "Epoch 3/7\n",
            "20/20 [==============================] - 31s 2s/step - loss: 0.4847 - accuracy: 0.2565 - val_loss: 0.4498 - val_accuracy: 0.3630\n",
            "Epoch 4/7\n",
            "20/20 [==============================] - 31s 2s/step - loss: 0.4235 - accuracy: 0.4354 - val_loss: 0.3632 - val_accuracy: 0.4883\n",
            "Epoch 5/7\n",
            "20/20 [==============================] - 31s 2s/step - loss: 0.3183 - accuracy: 0.5479 - val_loss: 0.2602 - val_accuracy: 0.6302\n",
            "Epoch 6/7\n",
            "20/20 [==============================] - 31s 2s/step - loss: 0.2181 - accuracy: 0.7144 - val_loss: 0.1793 - val_accuracy: 0.7650\n",
            "Epoch 7/7\n",
            "20/20 [==============================] - 34s 2s/step - loss: 0.1388 - accuracy: 0.8428 - val_loss: 0.1215 - val_accuracy: 0.8479\n"
          ]
        },
        {
          "output_type": "execute_result",
          "data": {
            "text/plain": [
              "<keras.callbacks.History at 0x7f31aaf639d0>"
            ]
          },
          "metadata": {},
          "execution_count": 16
        }
      ]
    },
    {
      "cell_type": "code",
      "source": [
        "print(\"\\n 테스트 정확도: %.4f\" % (model.evaluate(X_test, y_test)[1]))"
      ],
      "metadata": {
        "colab": {
          "base_uri": "https://localhost:8080/"
        },
        "id": "Ej7BdjnUQNWe",
        "outputId": "ac59a11c-ffd9-46fb-bb78-8e2f147a3ef0"
      },
      "execution_count": 17,
      "outputs": [
        {
          "output_type": "stream",
          "name": "stdout",
          "text": [
            "20/20 [==============================] - 2s 114ms/step - loss: 0.1215 - accuracy: 0.8479\n",
            "\n",
            " 테스트 정확도: 0.8479\n"
          ]
        }
      ]
    },
    {
      "cell_type": "markdown",
      "source": [
        "### 3) 개체명 인식 Named Entity Recognition\n",
        "\n",
        "1. 개체명 인식\n",
        "\n",
        "  이름을 가진 개체 인식\n",
        "\n",
        "2. NLTK를 이용한 개체명 인식\n",
        "\n"
      ],
      "metadata": {
        "id": "ko6LvaNiT5G_"
      }
    },
    {
      "cell_type": "code",
      "source": [
        "from nltk import word_tokenize, pos_tag, ne_chunk\n",
        "nltk.download('punkt')\n",
        "nltk.download('averaged_perceptron_tagger')\n",
        "\n",
        "sentence = \"James is working at Disney in London\"\n",
        "# 토큰화 후 품사 태깅\n",
        "tokenized_sentence = pos_tag(word_tokenize(sentence))\n",
        "print(tokenized_sentence)"
      ],
      "metadata": {
        "colab": {
          "base_uri": "https://localhost:8080/"
        },
        "id": "UUHglHOuUXLv",
        "outputId": "60abcbcc-9714-4b6a-f3bd-2812310df5da"
      },
      "execution_count": 20,
      "outputs": [
        {
          "output_type": "stream",
          "name": "stdout",
          "text": [
            "[nltk_data] Downloading package punkt to /root/nltk_data...\n",
            "[nltk_data]   Package punkt is already up-to-date!\n",
            "[nltk_data] Downloading package averaged_perceptron_tagger to\n",
            "[nltk_data]     /root/nltk_data...\n",
            "[nltk_data]   Unzipping taggers/averaged_perceptron_tagger.zip.\n",
            "[('James', 'NNP'), ('is', 'VBZ'), ('working', 'VBG'), ('at', 'IN'), ('Disney', 'NNP'), ('in', 'IN'), ('London', 'NNP')]\n"
          ]
        }
      ]
    },
    {
      "cell_type": "code",
      "source": [
        "nltk.download('maxent_ne_chunker')\n",
        "nltk.download('words')\n",
        "\n",
        "ner_sentence = ne_chunk(tokenized_sentence) # 개체명 인식\n",
        "print(ner_sentence)"
      ],
      "metadata": {
        "colab": {
          "base_uri": "https://localhost:8080/"
        },
        "id": "FsDTL2BGUewK",
        "outputId": "9b4252b2-27b1-43f8-8ae9-741e4a8c10ea"
      },
      "execution_count": 23,
      "outputs": [
        {
          "output_type": "stream",
          "name": "stdout",
          "text": [
            "[nltk_data] Downloading package maxent_ne_chunker to\n",
            "[nltk_data]     /root/nltk_data...\n",
            "[nltk_data]   Package maxent_ne_chunker is already up-to-date!\n",
            "[nltk_data] Downloading package words to /root/nltk_data...\n",
            "[nltk_data]   Unzipping corpora/words.zip.\n",
            "(S\n",
            "  (PERSON James/NNP)\n",
            "  is/VBZ\n",
            "  working/VBG\n",
            "  at/IN\n",
            "  (ORGANIZATION Disney/NNP)\n",
            "  in/IN\n",
            "  (GPE London/NNP))\n"
          ]
        }
      ]
    },
    {
      "cell_type": "markdown",
      "source": [
        "### 4) 개체명 인식의 BIO 표현 이해\n",
        "\n",
        "1. BIO 표현\n",
        "\n",
        "  해 B-movie\n",
        "\n",
        "  리 I-movie\n",
        "\n",
        "  포 I-movie\n",
        "\n",
        "  터 I-movie\n",
        "\n",
        "  보 O\n",
        "\n",
        "  러 O\n",
        "\n",
        "  메 B-theater\n",
        "\n",
        "  가 I-theater\n",
        "\n",
        "  박 I-theater\n",
        "  \n",
        "  스 I-theater\n",
        "\n",
        "  가 O\n",
        "\n",
        "  자 O\n",
        "\n",
        "### 5) BiLSTM을 이용한 개체명 인식 Named Entity Recognition, NER\n"
      ],
      "metadata": {
        "id": "-e050nNEVFzn"
      }
    },
    {
      "cell_type": "markdown",
      "source": [
        "### 6) biLSTM-CRF\n",
        "\n",
        "  양방향 LSTM은 입력 단어에 대한 양방향 문맥을 반영하며, CRF는 출력 레이블에 대한 양방향 문맥을 반영한다.\n",
        "\n",
        "  pip install keras-crf\n"
      ],
      "metadata": {
        "id": "Iz03AfG6X1mO"
      }
    }
  ]
}