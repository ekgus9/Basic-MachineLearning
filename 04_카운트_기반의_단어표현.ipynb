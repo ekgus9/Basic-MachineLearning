{
  "nbformat": 4,
  "nbformat_minor": 0,
  "metadata": {
    "colab": {
      "name": "04_카운트_기반의_단어표현.ipynb",
      "provenance": [],
      "authorship_tag": "ABX9TyNJcqPimocubQe8GA8O8TtM"
    },
    "kernelspec": {
      "name": "python3",
      "display_name": "Python 3"
    },
    "language_info": {
      "name": "python"
    }
  },
  "cells": [
    {
      "cell_type": "markdown",
      "source": [
        "# 04 카운트 기반의 단어 표현\n",
        "\n",
        "### 1) 다양한 단어의 표현 방법\n",
        "\n",
        "1. 단어의 표현 방법\n",
        "\n",
        "- 국소 표현 Local Representation (이산 표현 Discrete Representation)\n",
        "\n",
        "  ex. '강아지', '귀여운', '사랑스러운' -> 1, 2, 3 mapping\n",
        "\n",
        "- 분산 표현 Disrtibuted Representation (분산 표현 Distributed Representation)\n",
        "\n",
        "  ex. '강아지'라는 단어 근처에 '귀여운', '사랑스러운'이 자주 등장하므로, '강아지'라는 단어는 '귀여운', '사랑스러운'이라는 느낌이다. (단어의 의미 표현 가능)\n",
        "\n",
        "2. 단어 표현의 카테고리화\n",
        "\n",
        "  ![image.png](data:image/png;base64,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)\n",
        "\n",
        "\n",
        "### 2) Bag of Words\n",
        "\n",
        "1. Bag of Words 란?\n",
        "\n",
        "단어들의 순서는 고려하지 않고, 출현 빈도에만 집중하는 텍스트 데이터의 수치화 표현 방법\n",
        "\n",
        "- BoW 만드는 과정\n",
        "\n",
        "```\n",
        "(1) 각 단어에 고유한 정수 인덱스를 부여합니다.  # 단어 집합 생성.\n",
        "(2) 각 인덱스의 위치에 단어 토큰의 등장 횟수를 기록한 벡터를 만듭니다.  \n",
        "```\n",
        "\n",
        "2. BoW 예제"
      ],
      "metadata": {
        "id": "dPqnkSJ7Ixb4"
      }
    },
    {
      "cell_type": "code",
      "source": [
        "from konlpy.tag import Okt\n",
        "\n",
        "okt = Okt()\n",
        "\n",
        "def build_bag_of_words(document):\n",
        "  # 온점 제거 및 형태소 분석\n",
        "  document = document.replace('.', '')\n",
        "  tokenized_document = okt.morphs(document)\n",
        "\n",
        "  word_to_index = {}\n",
        "  bow = []\n",
        "\n",
        "  for word in tokenized_document:  \n",
        "    if word not in word_to_index.keys():\n",
        "      word_to_index[word] = len(word_to_index)  \n",
        "      # BoW에 전부 기본값 1을 넣는다.\n",
        "      bow.insert(len(word_to_index) - 1, 1)\n",
        "    else:\n",
        "      # 재등장하는 단어의 인덱스\n",
        "      index = word_to_index.get(word)\n",
        "      # 재등장한 단어는 해당하는 인덱스의 위치에 1을 더한다.\n",
        "      bow[index] = bow[index] + 1\n",
        "\n",
        "  return word_to_index, bow\n",
        "\n",
        "doc1 = \"정부가 발표하는 물가상승률과 소비자가 느끼는 물가상승률은 다르다.\"\n",
        "vocab, bow = build_bag_of_words(doc1)\n",
        "print('vocabulary :', vocab)\n",
        "print('bag of words vector :', bow)"
      ],
      "metadata": {
        "id": "S1dFg-B5L1e5",
        "colab": {
          "base_uri": "https://localhost:8080/"
        },
        "outputId": "108ad45f-7eaf-4026-cbd6-45d9661d7424"
      },
      "execution_count": 2,
      "outputs": [
        {
          "output_type": "stream",
          "name": "stdout",
          "text": [
            "vocabulary : {'정부': 0, '가': 1, '발표': 2, '하는': 3, '물가상승률': 4, '과': 5, '소비자': 6, '느끼는': 7, '은': 8, '다르다': 9}\n",
            "bag of words vector : [1, 2, 1, 1, 2, 1, 1, 1, 1, 1]\n"
          ]
        }
      ]
    },
    {
      "cell_type": "markdown",
      "source": [
        "3. CounterVectorizer 클래스로 BoW 생성 (영어)"
      ],
      "metadata": {
        "id": "boL7CvBAMAlN"
      }
    },
    {
      "cell_type": "code",
      "source": [
        "from sklearn.feature_extraction.text import CountVectorizer\n",
        "\n",
        "corpus = ['you know I want your love. because I love you.']\n",
        "vector = CountVectorizer()\n",
        "\n",
        "# 코퍼스로부터 각 단어의 빈도수를 기록\n",
        "print('bag of words vector :', vector.fit_transform(corpus).toarray()) \n",
        "\n",
        "# 각 단어의 인덱스가 어떻게 부여되었는지를 출력\n",
        "print('vocabulary :',vector.vocabulary_)"
      ],
      "metadata": {
        "id": "_m9UydgGMRTH",
        "colab": {
          "base_uri": "https://localhost:8080/"
        },
        "outputId": "1126e43b-613e-47bb-8fba-0dd37a5ee32e"
      },
      "execution_count": 3,
      "outputs": [
        {
          "output_type": "stream",
          "name": "stdout",
          "text": [
            "bag of words vector : [[1 1 2 1 2 1]]\n",
            "vocabulary : {'you': 4, 'know': 1, 'want': 3, 'your': 5, 'love': 2, 'because': 0}\n"
          ]
        }
      ]
    },
    {
      "cell_type": "markdown",
      "source": [
        "4. 불용어 제외 (전처리)\n",
        "\n",
        "### 3) 문서 단어 행렬 Document-Term Matrix, DTM\n",
        "\n",
        "1. 문서 단어 행렬의 표기법\n",
        "\n",
        "다수의 문서에서 등장하는 각 단어들의 빈도를 행렬로 표현\n",
        "\n",
        "2. 문서 단어 행렬의 한계\n",
        "\n",
        "- 희소 표현 : 대부분 값이 0이 된다. 따라서 많은 양의 저장 공간과 높은 계산 복잡도를 요구한다. 이는 전처리를 이용하여 어느 정도는 해소가 가능하다.\n",
        "\n",
        "- 단순 빈도 수 기반 접근 : 불용어의 빈도 수 가 높다고 해서 유사한 문서로 판별할 수 없다.\n",
        "\n",
        "\n",
        "### 4) TF-IDF (Term Frequency-Inverse Document Frequency)\n",
        "\n",
        "1. TF-IDF\n",
        "  \n",
        "  단어의 빈도와 역 문서 문서를 사용하여 DTM 내의 각 단어들마다 중요한 정도를 가중치로 두는 방법\n",
        "\n",
        "  - TF와 IDF를 곱한 값\n",
        "\n",
        "    TF : 특정 문서에서 특정 단어의 등장 횟수\n",
        "\n",
        "    IDF : 특정 단어가 등장한 문서의 수에 반비례하는 수\n",
        "\n",
        "  모든 문서에만 자주 등장하는 단어는 중요도가 낮다고 판다하며, 특정 문서에만 자주 등장하는 단어는 중요도가 높다고 판단\n",
        "\n",
        "2. 파이썬으로 TF-IDF 구현"
      ],
      "metadata": {
        "id": "WyuXsLwkL1tm"
      }
    },
    {
      "cell_type": "code",
      "source": [
        "import pandas as pd\n",
        "from math import log\n",
        "\n",
        "docs = [\n",
        "  '먹고 싶은 사과',\n",
        "  '먹고 싶은 바나나',\n",
        "  '길고 노란 바나나 바나나',\n",
        "  '저는 과일이 좋아요'\n",
        "] \n",
        "vocab = list(set(w for doc in docs for w in doc.split()))\n",
        "vocab.sort() # 단어 리스트\n",
        "\n",
        "N = len(docs) \n",
        "\n",
        "def tf(t, d):\n",
        "  return d.count(t)\n",
        "\n",
        "def idf(t):\n",
        "  df = 0\n",
        "  for doc in docs:\n",
        "    df += t in doc\n",
        "  return log(N/(df+1))\n",
        "\n",
        "def tfidf(t, d):\n",
        "  return tf(t,d)* idf(t)\n",
        "\n",
        "result = []\n",
        "\n",
        "for i in range(N): # TF, DTM 구하기\n",
        "  result.append([])\n",
        "  d = docs[i]\n",
        "  for j in range(len(vocab)):\n",
        "    t = vocab[j]\n",
        "    result[-1].append(tf(t, d))\n",
        "\n",
        "tf_ = pd.DataFrame(result, columns = vocab)\n",
        "\n",
        "result = []\n",
        "for j in range(len(vocab)):\n",
        "    t = vocab[j]\n",
        "    result.append(idf(t))\n",
        "\n",
        "idf_ = pd.DataFrame(result, index=vocab, columns=[\"IDF\"])\n",
        "\n",
        "result = []\n",
        "for i in range(N):\n",
        "  result.append([])\n",
        "  d = docs[i]\n",
        "  for j in range(len(vocab)):\n",
        "    t = vocab[j]\n",
        "    result[-1].append(tfidf(t,d))\n",
        "\n",
        "tfidf_ = pd.DataFrame(result, columns = vocab)\n",
        "tfidf_"
      ],
      "metadata": {
        "colab": {
          "base_uri": "https://localhost:8080/",
          "height": 238
        },
        "id": "C_BywzrNjD29",
        "outputId": "7a6ec089-2511-4d00-e902-39148e90e0e0"
      },
      "execution_count": 7,
      "outputs": [
        {
          "output_type": "execute_result",
          "data": {
            "text/html": [
              "\n",
              "  <div id=\"df-ebe0d881-dbe1-4835-8b81-b06e3bd8a0d8\">\n",
              "    <div class=\"colab-df-container\">\n",
              "      <div>\n",
              "<style scoped>\n",
              "    .dataframe tbody tr th:only-of-type {\n",
              "        vertical-align: middle;\n",
              "    }\n",
              "\n",
              "    .dataframe tbody tr th {\n",
              "        vertical-align: top;\n",
              "    }\n",
              "\n",
              "    .dataframe thead th {\n",
              "        text-align: right;\n",
              "    }\n",
              "</style>\n",
              "<table border=\"1\" class=\"dataframe\">\n",
              "  <thead>\n",
              "    <tr style=\"text-align: right;\">\n",
              "      <th></th>\n",
              "      <th>과일이</th>\n",
              "      <th>길고</th>\n",
              "      <th>노란</th>\n",
              "      <th>먹고</th>\n",
              "      <th>바나나</th>\n",
              "      <th>사과</th>\n",
              "      <th>싶은</th>\n",
              "      <th>저는</th>\n",
              "      <th>좋아요</th>\n",
              "    </tr>\n",
              "  </thead>\n",
              "  <tbody>\n",
              "    <tr>\n",
              "      <th>0</th>\n",
              "      <td>0.000000</td>\n",
              "      <td>0.000000</td>\n",
              "      <td>0.000000</td>\n",
              "      <td>0.287682</td>\n",
              "      <td>0.000000</td>\n",
              "      <td>0.693147</td>\n",
              "      <td>0.287682</td>\n",
              "      <td>0.000000</td>\n",
              "      <td>0.000000</td>\n",
              "    </tr>\n",
              "    <tr>\n",
              "      <th>1</th>\n",
              "      <td>0.000000</td>\n",
              "      <td>0.000000</td>\n",
              "      <td>0.000000</td>\n",
              "      <td>0.287682</td>\n",
              "      <td>0.287682</td>\n",
              "      <td>0.000000</td>\n",
              "      <td>0.287682</td>\n",
              "      <td>0.000000</td>\n",
              "      <td>0.000000</td>\n",
              "    </tr>\n",
              "    <tr>\n",
              "      <th>2</th>\n",
              "      <td>0.000000</td>\n",
              "      <td>0.693147</td>\n",
              "      <td>0.693147</td>\n",
              "      <td>0.000000</td>\n",
              "      <td>0.575364</td>\n",
              "      <td>0.000000</td>\n",
              "      <td>0.000000</td>\n",
              "      <td>0.000000</td>\n",
              "      <td>0.000000</td>\n",
              "    </tr>\n",
              "    <tr>\n",
              "      <th>3</th>\n",
              "      <td>0.693147</td>\n",
              "      <td>0.000000</td>\n",
              "      <td>0.000000</td>\n",
              "      <td>0.000000</td>\n",
              "      <td>0.000000</td>\n",
              "      <td>0.000000</td>\n",
              "      <td>0.000000</td>\n",
              "      <td>0.693147</td>\n",
              "      <td>0.693147</td>\n",
              "    </tr>\n",
              "  </tbody>\n",
              "</table>\n",
              "</div>\n",
              "      <button class=\"colab-df-convert\" onclick=\"convertToInteractive('df-ebe0d881-dbe1-4835-8b81-b06e3bd8a0d8')\"\n",
              "              title=\"Convert this dataframe to an interactive table.\"\n",
              "              style=\"display:none;\">\n",
              "        \n",
              "  <svg xmlns=\"http://www.w3.org/2000/svg\" height=\"24px\"viewBox=\"0 0 24 24\"\n",
              "       width=\"24px\">\n",
              "    <path d=\"M0 0h24v24H0V0z\" fill=\"none\"/>\n",
              "    <path d=\"M18.56 5.44l.94 2.06.94-2.06 2.06-.94-2.06-.94-.94-2.06-.94 2.06-2.06.94zm-11 1L8.5 8.5l.94-2.06 2.06-.94-2.06-.94L8.5 2.5l-.94 2.06-2.06.94zm10 10l.94 2.06.94-2.06 2.06-.94-2.06-.94-.94-2.06-.94 2.06-2.06.94z\"/><path d=\"M17.41 7.96l-1.37-1.37c-.4-.4-.92-.59-1.43-.59-.52 0-1.04.2-1.43.59L10.3 9.45l-7.72 7.72c-.78.78-.78 2.05 0 2.83L4 21.41c.39.39.9.59 1.41.59.51 0 1.02-.2 1.41-.59l7.78-7.78 2.81-2.81c.8-.78.8-2.07 0-2.86zM5.41 20L4 18.59l7.72-7.72 1.47 1.35L5.41 20z\"/>\n",
              "  </svg>\n",
              "      </button>\n",
              "      \n",
              "  <style>\n",
              "    .colab-df-container {\n",
              "      display:flex;\n",
              "      flex-wrap:wrap;\n",
              "      gap: 12px;\n",
              "    }\n",
              "\n",
              "    .colab-df-convert {\n",
              "      background-color: #E8F0FE;\n",
              "      border: none;\n",
              "      border-radius: 50%;\n",
              "      cursor: pointer;\n",
              "      display: none;\n",
              "      fill: #1967D2;\n",
              "      height: 32px;\n",
              "      padding: 0 0 0 0;\n",
              "      width: 32px;\n",
              "    }\n",
              "\n",
              "    .colab-df-convert:hover {\n",
              "      background-color: #E2EBFA;\n",
              "      box-shadow: 0px 1px 2px rgba(60, 64, 67, 0.3), 0px 1px 3px 1px rgba(60, 64, 67, 0.15);\n",
              "      fill: #174EA6;\n",
              "    }\n",
              "\n",
              "    [theme=dark] .colab-df-convert {\n",
              "      background-color: #3B4455;\n",
              "      fill: #D2E3FC;\n",
              "    }\n",
              "\n",
              "    [theme=dark] .colab-df-convert:hover {\n",
              "      background-color: #434B5C;\n",
              "      box-shadow: 0px 1px 3px 1px rgba(0, 0, 0, 0.15);\n",
              "      filter: drop-shadow(0px 1px 2px rgba(0, 0, 0, 0.3));\n",
              "      fill: #FFFFFF;\n",
              "    }\n",
              "  </style>\n",
              "\n",
              "      <script>\n",
              "        const buttonEl =\n",
              "          document.querySelector('#df-ebe0d881-dbe1-4835-8b81-b06e3bd8a0d8 button.colab-df-convert');\n",
              "        buttonEl.style.display =\n",
              "          google.colab.kernel.accessAllowed ? 'block' : 'none';\n",
              "\n",
              "        async function convertToInteractive(key) {\n",
              "          const element = document.querySelector('#df-ebe0d881-dbe1-4835-8b81-b06e3bd8a0d8');\n",
              "          const dataTable =\n",
              "            await google.colab.kernel.invokeFunction('convertToInteractive',\n",
              "                                                     [key], {});\n",
              "          if (!dataTable) return;\n",
              "\n",
              "          const docLinkHtml = 'Like what you see? Visit the ' +\n",
              "            '<a target=\"_blank\" href=https://colab.research.google.com/notebooks/data_table.ipynb>data table notebook</a>'\n",
              "            + ' to learn more about interactive tables.';\n",
              "          element.innerHTML = '';\n",
              "          dataTable['output_type'] = 'display_data';\n",
              "          await google.colab.output.renderOutput(dataTable, element);\n",
              "          const docLink = document.createElement('div');\n",
              "          docLink.innerHTML = docLinkHtml;\n",
              "          element.appendChild(docLink);\n",
              "        }\n",
              "      </script>\n",
              "    </div>\n",
              "  </div>\n",
              "  "
            ],
            "text/plain": [
              "        과일이        길고        노란  ...        싶은        저는       좋아요\n",
              "0  0.000000  0.000000  0.000000  ...  0.287682  0.000000  0.000000\n",
              "1  0.000000  0.000000  0.000000  ...  0.287682  0.000000  0.000000\n",
              "2  0.000000  0.693147  0.693147  ...  0.000000  0.000000  0.000000\n",
              "3  0.693147  0.000000  0.000000  ...  0.000000  0.693147  0.693147\n",
              "\n",
              "[4 rows x 9 columns]"
            ]
          },
          "metadata": {},
          "execution_count": 7
        }
      ]
    },
    {
      "cell_type": "markdown",
      "source": [
        "3. 사이킷 런을 이용한 DTM과 TF-IDF 실습"
      ],
      "metadata": {
        "id": "J338R4bClhCZ"
      }
    },
    {
      "cell_type": "code",
      "source": [
        "from sklearn.feature_extraction.text import TfidfVectorizer\n",
        "\n",
        "corpus = [\n",
        "    'you know I want your love',\n",
        "    'I like you',\n",
        "    'what should I do ',    \n",
        "]\n",
        "\n",
        "tfidfv = TfidfVectorizer().fit(corpus)\n",
        "print(tfidfv.transform(corpus).toarray())\n",
        "print(tfidfv.vocabulary_)"
      ],
      "metadata": {
        "id": "as49fIpGlnGn",
        "outputId": "03abb47f-0b62-41bb-dbc9-f1355dfdd031",
        "colab": {
          "base_uri": "https://localhost:8080/"
        }
      },
      "execution_count": 8,
      "outputs": [
        {
          "output_type": "stream",
          "name": "stdout",
          "text": [
            "[[0.         0.46735098 0.         0.46735098 0.         0.46735098\n",
            "  0.         0.35543247 0.46735098]\n",
            " [0.         0.         0.79596054 0.         0.         0.\n",
            "  0.         0.60534851 0.        ]\n",
            " [0.57735027 0.         0.         0.         0.57735027 0.\n",
            "  0.57735027 0.         0.        ]]\n",
            "{'you': 7, 'know': 1, 'want': 5, 'your': 8, 'love': 3, 'like': 2, 'what': 6, 'should': 4, 'do': 0}\n"
          ]
        }
      ]
    }
  ]
}